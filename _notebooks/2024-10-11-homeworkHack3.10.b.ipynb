{
 "cells": [
  {
   "cell_type": "raw",
   "metadata": {
    "vscode": {
     "languageId": "raw"
    }
   },
   "source": [
    "---\n",
    "toc: false\n",
    "comments: true\n",
    "layout: post\n",
    "description: popcorn and homework hack for 3.10.b\n",
    "permalink: /tenb/\n",
    "author: Collin\n",
    "---"
   ]
  },
  {
   "cell_type": "markdown",
   "metadata": {},
   "source": [
    "## Hacks for 3.10.b (Noah's group)"
   ]
  },
  {
   "cell_type": "markdown",
   "metadata": {},
   "source": [
    "## Popcorn hack 1"
   ]
  },
  {
   "cell_type": "code",
   "execution_count": null,
   "metadata": {
    "vscode": {
     "languageId": "javascript"
    }
   },
   "outputs": [],
   "source": [
    "%%js\n",
    "// Create an array\n",
    "let myArray = [1, 2, 3, 4, 5];\n",
    "\n",
    "// Reverse the array\n",
    "myArray.reverse();\n",
    "\n",
    "// Log the reversed array\n",
    "console.log(\"Reversed Array:\", myArray);"
   ]
  },
  {
   "cell_type": "markdown",
   "metadata": {},
   "source": [
    "## Popcorn hack 2"
   ]
  },
  {
   "cell_type": "code",
   "execution_count": null,
   "metadata": {
    "vscode": {
     "languageId": "javascript"
    }
   },
   "outputs": [],
   "source": [
    "%%js\n",
    "// Create an initial array\n",
    "let initialArray = [2, 3, 4];\n",
    "\n",
    "// Use the spread operator to add more values using unshift()\n",
    "initialArray.unshift(1, ...[0]);\n",
    "\n",
    "// Log the updated array\n",
    "console.log(\"Array After Unshift:\", initialArray);"
   ]
  },
  {
   "cell_type": "markdown",
   "metadata": {},
   "source": [
    "## Popcorn hack 3"
   ]
  },
  {
   "cell_type": "code",
   "execution_count": null,
   "metadata": {
    "vscode": {
     "languageId": "javascript"
    }
   },
   "outputs": [],
   "source": [
    "%%js\n",
    "// Create an array of numbers\n",
    "let numbersArray = [1, 2, 3, 4, 5, 6, 7, 8, 9, 10];\n",
    "\n",
    "// Use filter to create an array of even numbers\n",
    "let evenNumbers = numbersArray.filter(num => num % 2 === 0);\n",
    "\n",
    "// Log the filtered array\n",
    "console.log(\"Even Numbers:\", evenNumbers);"
   ]
  },
  {
   "cell_type": "markdown",
   "metadata": {},
   "source": [
    "## Popcorn hack 4"
   ]
  },
  {
   "cell_type": "code",
   "execution_count": 1,
   "metadata": {},
   "outputs": [
    {
     "name": "stdout",
     "output_type": "stream",
     "text": [
      "List After Insertion: [5, 10, 20, 12, 15, 30]\n"
     ]
    }
   ],
   "source": [
    "# Create an initial list\n",
    "my_list = [10, 20, 30]\n",
    "\n",
    "# Insert values using negative indexes\n",
    "my_list.insert(-1, 15)  # Insert 15 before the last element\n",
    "my_list.insert(-2, 12)  # Insert 12 before the second last element\n",
    "my_list.insert(0, 5)     # Insert 5 at the beginning\n",
    "\n",
    "# Print the updated list\n",
    "print(\"List After Insertion:\", my_list)"
   ]
  },
  {
   "cell_type": "markdown",
   "metadata": {},
   "source": [
    "## Popcorn hack 5"
   ]
  },
  {
   "cell_type": "code",
   "execution_count": 2,
   "metadata": {},
   "outputs": [
    {
     "name": "stdout",
     "output_type": "stream",
     "text": [
      "Combined List: ['apple', 'banana', 'cherry', 'date', 'elderberry', 'fig']\n"
     ]
    }
   ],
   "source": [
    "# Create two lists\n",
    "list_one = ['apple', 'banana', 'cherry']\n",
    "list_two = ['date', 'elderberry', 'fig']\n",
    "\n",
    "# Use the extend method to add list_two to list_one\n",
    "list_one.extend(list_two)\n",
    "\n",
    "# Print the combined list\n",
    "print(\"Combined List:\", list_one)"
   ]
  },
  {
   "cell_type": "markdown",
   "metadata": {},
   "source": [
    "## Popcorn hack 6"
   ]
  },
  {
   "cell_type": "code",
   "execution_count": 3,
   "metadata": {},
   "outputs": [
    {
     "name": "stdout",
     "output_type": "stream",
     "text": [
      "List After Removals: ['cherry', 'date']\n"
     ]
    }
   ],
   "source": [
    "# Create an initial list\n",
    "my_items = ['apple', 'banana', 'cherry', 'date', 'elderberry']\n",
    "\n",
    "# Remove an item using the remove() method\n",
    "my_items.remove('banana')\n",
    "\n",
    "# Remove an item using the pop() method (removing the last item)\n",
    "my_items.pop()\n",
    "\n",
    "# Remove an item using the del statement (removing the first item)\n",
    "del my_items[0]\n",
    "\n",
    "# Print the updated list\n",
    "print(\"List After Removals:\", my_items)"
   ]
  },
  {
   "cell_type": "markdown",
   "metadata": {},
   "source": [
    "## Homework hack 1"
   ]
  },
  {
   "cell_type": "code",
   "execution_count": null,
   "metadata": {},
   "outputs": [],
   "source": [
    "# Initialize an empty grocery list\n",
    "grocery_list = []\n",
    "\n",
    "# Function to display the grocery list\n",
    "def display_grocery_list():\n",
    "    print(\"Grocery List:\")\n",
    "    for item in grocery_list:\n",
    "        print(\"- \" + item)\n",
    "\n",
    "# Adding items to the grocery list\n",
    "grocery_list.append(\"Milk\")\n",
    "grocery_list.append(\"Eggs\")\n",
    "grocery_list.append(\"Bread\")\n",
    "\n",
    "# Display the grocery list\n",
    "display_grocery_list()\n",
    "\n",
    "# Removing an item from the grocery list\n",
    "grocery_list.remove(\"Eggs\")\n",
    "\n",
    "# Display the updated grocery list\n",
    "print(\"\\nUpdated Grocery List:\")\n",
    "display_grocery_list()"
   ]
  },
  {
   "cell_type": "markdown",
   "metadata": {},
   "source": [
    "## Homework Hack 2"
   ]
  },
  {
   "cell_type": "code",
   "execution_count": 4,
   "metadata": {},
   "outputs": [
    {
     "name": "stdout",
     "output_type": "stream",
     "text": [
      "Even Numbers: [2, 4, 6, 8, 10]\n"
     ]
    }
   ],
   "source": [
    "# Create a list of numbers\n",
    "numbers = [1, 2, 3, 4, 5, 6, 7, 8, 9, 10]\n",
    "\n",
    "# Use filter to create a list of even numbers\n",
    "even_numbers = list(filter(lambda x: x % 2 == 0, numbers))\n",
    "\n",
    "# Print the filtered list\n",
    "print(\"Even Numbers:\", even_numbers)"
   ]
  },
  {
   "cell_type": "markdown",
   "metadata": {},
   "source": [
    "## Homework Hack 3"
   ]
  },
  {
   "cell_type": "code",
   "execution_count": null,
   "metadata": {},
   "outputs": [],
   "source": [
    "# Initialize a list of student grades\n",
    "grades = [88, 92, 75, 85, 95]\n",
    "\n",
    "# Function to display grades\n",
    "def display_grades():\n",
    "    print(\"Student Grades:\")\n",
    "    for grade in grades:\n",
    "        print(grade)\n",
    "\n",
    "# Display current grades\n",
    "display_grades()\n",
    "\n",
    "# Adding a new grade\n",
    "grades.append(90)\n",
    "\n",
    "# Removing a grade\n",
    "grades.remove(75)\n",
    "\n",
    "# Display updated grades\n",
    "print(\"\\nUpdated Grades:\")\n",
    "display_grades()"
   ]
  },
  {
   "cell_type": "markdown",
   "metadata": {},
   "source": [
    "## Homework hack 4"
   ]
  },
  {
   "cell_type": "code",
   "execution_count": null,
   "metadata": {},
   "outputs": [],
   "source": [
    "# Create a list of numbers\n",
    "numbers = [10, 20, 30, 40, 50]\n",
    "\n",
    "# Calculate the sum\n",
    "total_sum = sum(numbers)\n",
    "\n",
    "# Calculate the average\n",
    "average = total_sum / len(numbers)\n",
    "\n",
    "# Find the maximum value\n",
    "max_value = max(numbers)\n",
    "\n",
    "# Print the results\n",
    "print(\"Sum:\", total_sum)\n",
    "print(\"Average:\", average)\n",
    "print(\"Maximum Value:\", max_value)"
   ]
  },
  {
   "cell_type": "markdown",
   "metadata": {},
   "source": [
    "## Homework hack 5"
   ]
  },
  {
   "cell_type": "code",
   "execution_count": null,
   "metadata": {
    "vscode": {
     "languageId": "javascript"
    }
   },
   "outputs": [],
   "source": [
    "%%js\n",
    "// Create an array with at least 5 values\n",
    "let myArray = [10, 20, 30, 40, 50];"
   ]
  },
  {
   "cell_type": "markdown",
   "metadata": {},
   "source": [
    "## Homework hack 6"
   ]
  },
  {
   "cell_type": "code",
   "execution_count": null,
   "metadata": {
    "vscode": {
     "languageId": "javascript"
    }
   },
   "outputs": [],
   "source": [
    "%%js\n",
    "// Display array values\n",
    "console.log(\"Array Values:\", myArray);"
   ]
  },
  {
   "cell_type": "markdown",
   "metadata": {},
   "source": [
    "## Homework hack 7"
   ]
  },
  {
   "cell_type": "code",
   "execution_count": null,
   "metadata": {
    "vscode": {
     "languageId": "javascript"
    }
   },
   "outputs": [],
   "source": [
    "%%js\n",
    "// Add a value\n",
    "myArray.push(60); // Adds 60 to the end of the array\n",
    "\n",
    "// Remove a value\n",
    "myArray.pop(); // Removes the last value (60)"
   ]
  },
  {
   "cell_type": "markdown",
   "metadata": {},
   "source": [
    "## Homework hack 8"
   ]
  },
  {
   "cell_type": "code",
   "execution_count": null,
   "metadata": {
    "vscode": {
     "languageId": "javascript"
    }
   },
   "outputs": [],
   "source": [
    "%%js\n",
    "// Count even numbers\n",
    "let evenCount = myArray.filter(num => num % 2 === 0).length;\n",
    "console.log(\"Even Numbers Count:\", evenCount);"
   ]
  }
 ],
 "metadata": {
  "kernelspec": {
   "display_name": "Python 3",
   "language": "python",
   "name": "python3"
  },
  "language_info": {
   "codemirror_mode": {
    "name": "ipython",
    "version": 3
   },
   "file_extension": ".py",
   "mimetype": "text/x-python",
   "name": "python",
   "nbconvert_exporter": "python",
   "pygments_lexer": "ipython3",
   "version": "3.12.3"
  }
 },
 "nbformat": 4,
 "nbformat_minor": 2
}
