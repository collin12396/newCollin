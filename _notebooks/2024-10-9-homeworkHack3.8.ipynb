{
 "cells": [
  {
   "cell_type": "raw",
   "metadata": {
    "vscode": {
     "languageId": "raw"
    }
   },
   "source": [
    "---\n",
    "toc: false\n",
    "comments: true\n",
    "layout: post\n",
    "description: popcorn and homework hack for 3.4\n",
    "permalink: /four/\n",
    "author: Collin\n",
    "---"
   ]
  },
  {
   "cell_type": "markdown",
   "metadata": {},
   "source": [
    "# Hacks for 3.8"
   ]
  },
  {
   "cell_type": "markdown",
   "metadata": {},
   "source": [
    "## Popcorn hack 1\n",
    "### Requirements:\n",
    "- Create a while loop that will print out “hello” to the terminal 5 times"
   ]
  },
  {
   "cell_type": "code",
   "execution_count": 3,
   "metadata": {},
   "outputs": [
    {
     "name": "stdout",
     "output_type": "stream",
     "text": [
      "hello\n",
      "hello\n",
      "hello\n",
      "hello\n",
      "hello\n"
     ]
    }
   ],
   "source": [
    "count = 0\n",
    "while count < 5: # set the restriction of five\n",
    "    print(\"hello\") # what I want to print\n",
    "    count += 1 # numbers of time count when complete printing"
   ]
  },
  {
   "cell_type": "markdown",
   "metadata": {},
   "source": [
    "## Popcorn Hack 2\n",
    "### Requirements\n",
    "- Create a piece of python code that prints out your name one time\n",
    "\n",
    "- then after printing your first name one time, print out your middle name 2 times\n",
    "\n",
    "- and finally print out your last name three times\n",
    "\n",
    "- this entire thing should be repeated 4 times"
   ]
  },
  {
   "cell_type": "code",
   "execution_count": 18,
   "metadata": {},
   "outputs": [
    {
     "name": "stdout",
     "output_type": "stream",
     "text": [
      "Collin\n",
      "no middle name\n",
      "no middle name\n",
      "Ge\n",
      "Ge\n",
      "Ge\n",
      "Collin\n",
      "no middle name\n",
      "no middle name\n",
      "Ge\n",
      "Ge\n",
      "Ge\n",
      "Collin\n",
      "no middle name\n",
      "no middle name\n",
      "Ge\n",
      "Ge\n",
      "Ge\n",
      "Collin\n",
      "no middle name\n",
      "no middle name\n",
      "Ge\n",
      "Ge\n",
      "Ge\n"
     ]
    }
   ],
   "source": [
    "outer_counter = 0\n",
    "\n",
    "while outer_counter < 4: # line 1-4 code shows the outer loop of how many time the code inside will run\n",
    "    print(\"Collin\")\n",
    "    \n",
    "    inner_counter = 0 # this chunk print the middle name. each time in a entire loop, it print no middle name for two times\n",
    "    while inner_counter < 2:\n",
    "        print(\"no middle name\")\n",
    "        inner_counter += 1\n",
    "    \n",
    "    inner_counter = 0 # this chunk to the same with last one, but this print the last name and it repeat 3 times in a cycle.\n",
    "    while inner_counter < 3:\n",
    "        print(\"Ge\")\n",
    "        inner_counter += 1\n",
    "    \n",
    "    outer_counter += 1 # each cycle will count as one, when reach 4, stop."
   ]
  },
  {
   "cell_type": "markdown",
   "metadata": {},
   "source": [
    "## Popcorn Hack 3\n",
    "### Requirements\n",
    "- Create a for loop that iterates and prints out to the terminal the letters of your name"
   ]
  },
  {
   "cell_type": "code",
   "execution_count": 20,
   "metadata": {},
   "outputs": [
    {
     "name": "stdout",
     "output_type": "stream",
     "text": [
      "C\n",
      "o\n",
      "l\n",
      "l\n",
      "i\n",
      "n\n",
      " \n",
      "G\n",
      "e\n"
     ]
    }
   ],
   "source": [
    "name = \"Collin Ge\" # define my name\n",
    "\n",
    "for letter in name: # print the result using for loop\n",
    "    print(letter)"
   ]
  },
  {
   "cell_type": "markdown",
   "metadata": {},
   "source": [
    "## Popcorn Hack 4\n",
    "### Requirements\n",
    "- Create a dictionary and create a for loop that runs through each key and value of the dictionary For each iteration, print the key and value as well as a message of your choice"
   ]
  },
  {
   "cell_type": "code",
   "execution_count": 4,
   "metadata": {},
   "outputs": [
    {
     "name": "stdout",
     "output_type": "stream",
     "text": [
      "0\n",
      "1\n",
      "3\n",
      "6\n",
      "10\n",
      "15\n",
      "21\n",
      "28\n",
      "36\n",
      "45\n",
      "55\n",
      "66\n",
      "78\n",
      "91\n",
      "105\n",
      "120\n",
      "136\n",
      "153\n"
     ]
    }
   ],
   "source": [
    "test_string = \"This class is hard\" # Did this hack just in case. define the test string\n",
    "\n",
    "x = 0 # set x to zero\n",
    "\n",
    "for index in range(len(test_string)): # using for loop\n",
    "    x += index\n",
    "    print(x)"
   ]
  },
  {
   "cell_type": "markdown",
   "metadata": {},
   "source": [
    "## Homework hacks 1\n",
    "### Requirements\n",
    "- Create a python script that asks a user for a password in the terminal, then if the password is correct, it prints out that the password is correct."
   ]
  },
  {
   "cell_type": "code",
   "execution_count": 4,
   "metadata": {},
   "outputs": [
    {
     "name": "stdout",
     "output_type": "stream",
     "text": [
      "Password is correct!\n"
     ]
    }
   ],
   "source": [
    "correct_password = \"114514\"  # The correct password is set to 114514, as an input.\n",
    "\n",
    "while True:\n",
    "    user_password = \"114514\"  # Simulate the correct input\n",
    "    # if the number of the password matches, it will show the correct statement, if not then it will show the incorrect statement.\n",
    "    if user_password == correct_password:\n",
    "        print(\"Password is correct!\")\n",
    "        break\n",
    "    else:\n",
    "        print(\"Incorrect password, try again.\")"
   ]
  },
  {
   "cell_type": "markdown",
   "metadata": {},
   "source": [
    "## Homework hacks 2\n",
    "### Requirements\n",
    "- Create python script that asks for a user’s name.\n",
    "- Then iterate through the name and print it out letter by letter through the terminal."
   ]
  },
  {
   "cell_type": "code",
   "execution_count": 1,
   "metadata": {},
   "outputs": [
    {
     "name": "stdout",
     "output_type": "stream",
     "text": [
      "C\n",
      "o\n",
      "l\n",
      "l\n",
      "i\n",
      "n\n"
     ]
    }
   ],
   "source": [
    "user_name = \"Collin\"  # Insert my name Collin\n",
    "# Iterate through the name letter by letter using for loop\n",
    "for letter in user_name:\n",
    "    print(letter)"
   ]
  },
  {
   "cell_type": "markdown",
   "metadata": {},
   "source": [
    "## Homework hacks 3\n",
    "### Requirements\n",
    "- Create a python script that has a list of at least 7 different fruits\n",
    "- Then create a for loop that iterates through that list and prints out each fruit seperate to the terminal"
   ]
  },
  {
   "cell_type": "code",
   "execution_count": 3,
   "metadata": {},
   "outputs": [
    {
     "name": "stdout",
     "output_type": "stream",
     "text": [
      "Apple\n",
      "Banana\n",
      "Cherry\n",
      "Mango\n",
      "Orange\n",
      "Grapes\n",
      "Strawberry\n"
     ]
    }
   ],
   "source": [
    "# Listd 7 famous fruit.\n",
    "fruits = [\"Apple\", \"Banana\", \"Cherry\", \"Mango\", \"Orange\", \"Grapes\", \"Strawberry\"]\n",
    "\n",
    "# Iterate through the list and print each fruit using the for loop code.\n",
    "for fruit in fruits:\n",
    "    print(fruit)"
   ]
  }
 ],
 "metadata": {
  "kernelspec": {
   "display_name": "Python 3",
   "language": "python",
   "name": "python3"
  },
  "language_info": {
   "codemirror_mode": {
    "name": "ipython",
    "version": 3
   },
   "file_extension": ".py",
   "mimetype": "text/x-python",
   "name": "python",
   "nbconvert_exporter": "python",
   "pygments_lexer": "ipython3",
   "version": "3.12.3"
  }
 },
 "nbformat": 4,
 "nbformat_minor": 2
}
