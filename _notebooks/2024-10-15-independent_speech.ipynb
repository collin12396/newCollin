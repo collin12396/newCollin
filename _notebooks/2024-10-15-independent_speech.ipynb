{
 "cells": [
  {
   "cell_type": "code",
   "execution_count": null,
   "metadata": {
    "vscode": {
     "languageId": "plaintext"
    }
   },
   "outputs": [],
   "source": [
    "---\n",
    "toc: false\n",
    "comments: true\n",
    "layout: post\n",
    "description: independent speech\n",
    "permalink: /speech/\n",
    "author: Collin\n",
    "---"
   ]
  },
  {
   "cell_type": "markdown",
   "metadata": {},
   "source": [
    "## Individual Speech\n",
    "-----------------------------------------------------------------------------------------------------------------------\n",
    "For Sprint 2, focused on Big Idea 3, we worked in groups of 3 to 4, each mastering a topic and teaching the class. This project introduced me to coding and helped me understand how the class system works. We completed homework and popcorn hacks to deepen our understanding, and I contributed significantly by creating four out of nine lessons, specifically 3.2.1 - 3.2.4. My focus was on floats and integers, where I excelled in explaining real-world examples and breaking down code step by step, ensuring everyone could follow along. I made the popcorn hacks easier by providing clear instructions and making the lessons engaging for my classmates.\n",
    "\n",
    "The tools we used, like issue tracking to assign tasks and Slack to post important details, helped keep us organized. This inspired me to create detailed lists and track our progress more effectively in future projects.\n",
    "\n",
    "While everyone presented well, I learned the most from Kiruthic’s group, who simplified complex coding concepts with relatable examples, like making cookies, making it easier for beginners like me. Risha’s group stood out for their creativity, using beginner-friendly examples and real-life applications to explain the code. Their interactive approach with Kahoot made learning fun and engaging.\n",
    "\n",
    "Coming into this project, I knew almost nothing about coding. By the end, I had developed a solid foundation in coding basics and gained valuable teamwork and organizational skills. In conclusion, Sprint 2 not only strengthened my coding abilities but also taught me how to work effectively as part of a team and stay organized—skills that will benefit me in future projects."
   ]
  }
 ],
 "metadata": {
  "language_info": {
   "name": "python"
  }
 },
 "nbformat": 4,
 "nbformat_minor": 2
}
