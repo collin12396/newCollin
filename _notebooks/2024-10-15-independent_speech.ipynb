{
 "cells": [
  {
   "cell_type": "code",
   "execution_count": null,
   "metadata": {
    "vscode": {
     "languageId": "plaintext"
    }
   },
   "outputs": [],
   "source": [
    "---\n",
    "toc: false\n",
    "comments: true\n",
    "layout: post\n",
    "description: independent speech\n",
    "permalink: /speech/\n",
    "author: Collin\n",
    "---"
   ]
  },
  {
   "cell_type": "markdown",
   "metadata": {},
   "source": [
    "## Individual Speech\n",
    "-----------------------------------------------------------------------------------------------------------------------\n",
    "For the Sprint 2 project, focused on Big Idea 3 from College Board, we worked in groups of 3 to 4, each choosing a topic to master and teach the class. We strengthened our understanding by completing popcorn and homework hacks. This experience introduced us to coding and helped us understand how the class and system work.\n",
    "\n",
    "Through this project, I not only learned coding basics but also how to prepare and stay organized for a project. We used tools like issue tracking to assign topics and achievements and posted important details in Slack. This inspired me to be more organized in the future by creating detailed lists of goals, criteria, and progress updates to track class achievements effectively.\n",
    "\n",
    "During my lesson, I create four out of nine lessons, they are 3.2.1 - 3.2.4, and I excelled in teaching floats and integers by using real-world examples and breaking down the code step by step. I explained the differences in clear, relatable terms, ensuring everyone could follow and understand. I also made the popcorn hacks easy to grasp by providing clear instructions and walking through the code, making the lesson more engaging and effective for my classmates.\n",
    "\n",
    "While I think everyone did a very good job at presenting their lesson, I learn the best and most in topic 3.3, 3.5 by kiruthic group and 3.6, 3.7 by Risha's group. Kiruthic's group break every complicate coding language into easier process such as making cookies and wearing shoes in a day. This help a lot for someone who does not have coding basic like me. The bright spot for Risha's group is their creativity of their lesson. Their homework and popcorn hacks are relatively beginner friendly while making sure people can learn. (use easy example and show the application of code in real life.) They also made a kahoot, make everyone engage in the way of gaming and competition.\n",
    "\n",
    "Coming into the project, I knew almost nothing about coding, but by the end, I had developed a basic understanding of how to write code and use important tools effectively. Another skills I gained was learning how to work as part of a team. I contributed significantly to preparing the lesson and designing the hacks, ensuring our content was organized and accessible to the class. \n",
    "\n",
    "In conclusion, Sprint 2 on Big Idea 3 not only strengthened my coding foundation but also helped me develop teamwork and organizational skills that will benefit me in future projects."
   ]
  }
 ],
 "metadata": {
  "language_info": {
   "name": "python"
  }
 },
 "nbformat": 4,
 "nbformat_minor": 2
}
