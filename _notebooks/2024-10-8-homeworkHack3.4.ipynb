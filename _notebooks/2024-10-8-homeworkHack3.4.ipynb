{
 "cells": [
  {
   "cell_type": "raw",
   "metadata": {
    "vscode": {
     "languageId": "raw"
    }
   },
   "source": [
    "---\n",
    "toc: false\n",
    "comments: true\n",
    "layout: post\n",
    "description: popcorn and homework hack for 3.4\n",
    "permalink: /four/\n",
    "author: Collin\n",
    "---"
   ]
  },
  {
   "cell_type": "markdown",
   "metadata": {},
   "source": [
    "# Popcorn hack 1"
   ]
  },
  {
   "cell_type": "code",
   "execution_count": 2,
   "metadata": {},
   "outputs": [
    {
     "name": "stdout",
     "output_type": "stream",
     "text": [
      "The title 'My Heart Will Go On' appears 4 times in the lyrics.\n",
      "The 50th word is: more,\n",
      "Not enough verses found in the lyrics.\n",
      "Not enough verses to concatenate.\n"
     ]
    }
   ],
   "source": [
    "# Assuming you have the lyrics stored in a string variable\n",
    "lyrics = \"\"\"\n",
    "[Every night in my dreams\n",
    "I see you, I feel you\n",
    "That is how I know you go on\n",
    "Far across the distance\n",
    "And spaces between us\n",
    "You have come to show you go on\n",
    "Near, far, wherever you are\n",
    "I believe that the heart does go on\n",
    "Once more, you open the door\n",
    "And you're here in my heart\n",
    "And my heart will go on and on\n",
    "Love can touch us one time\n",
    "And last for a lifetime\n",
    "And never let go 'til we're gone\n",
    "Love was when I loved you\n",
    "One true time I'd hold to\n",
    "In my life, we'll always go on\n",
    "Near, far, wherever you are\n",
    "I believe that the heart does go on (why does the heart go on?)\n",
    "Once more, you open the door\n",
    "And you're here in my heart\n",
    "And my heart will go on and on\n",
    "You're here, there's nothing I fear\n",
    "And I know that my heart will go on\n",
    "We'll stay forever this way\n",
    "You are safe in my heart and\n",
    "My heart will go on and on]\n",
    "\"\"\"\n",
    "\n",
    "# 1. Count how many times the title \"My Heart Will Go On\" appears\n",
    "title = \"My Heart Will Go On\"\n",
    "title_count = lyrics.lower().count(title.lower())\n",
    "print(f\"The title '{title}' appears {title_count} times in the lyrics.\")\n",
    "\n",
    "# 2. Find the index of the 50th word\n",
    "words = lyrics.split()\n",
    "if len(words) >= 50:\n",
    "    fiftieth_word = words[49]  # Index starts at 0, so 50th word is at index 49\n",
    "    print(f\"The 50th word is: {fiftieth_word}\")\n",
    "else:\n",
    "    print(\"The lyrics do not have 50 words.\")\n",
    "\n",
    "# 3. Replace the first verse with the last verse (for simplicity, assuming verses are separated by '\\n')\n",
    "verses = lyrics.split('\\n\\n')\n",
    "if len(verses) >= 2:\n",
    "    first_verse = verses[0]\n",
    "    last_verse = verses[-1]\n",
    "    modified_lyrics = last_verse + \"\\n\\n\" + \"\\n\\n\".join(verses[1:-1])  # Replacing first verse with the last verse\n",
    "    print(\"\\nModified Lyrics:\\n\")\n",
    "    print(modified_lyrics)\n",
    "else:\n",
    "    print(\"Not enough verses found in the lyrics.\")\n",
    "\n",
    "# 4. Concatenate two specific verses (example: verse 1 and verse 3)\n",
    "if len(verses) >= 3:\n",
    "    verse1 = verses[0]\n",
    "    verse3 = verses[2]  # Assuming there is a third verse\n",
    "    new_song = verse1 + \"\\n\\n\" + verse3\n",
    "    print(\"\\nNew Song:\\n\")\n",
    "    print(new_song)\n",
    "else:\n",
    "    print(\"Not enough verses to concatenate.\")"
   ]
  },
  {
   "cell_type": "markdown",
   "metadata": {},
   "source": [
    "# Popcorn hack 2"
   ]
  },
  {
   "cell_type": "code",
   "execution_count": 3,
   "metadata": {},
   "outputs": [
    {
     "name": "stdout",
     "output_type": "stream",
     "text": [
      "New Creature: Peony-dragon\n",
      "Description: A majestic combination of beauty and power.\n",
      "\n",
      "In the mystical lands of the mountains of Jiangnan, a creature known as Xianglong roamed freely. \n",
      "With the delicate petals of a peony and the fierce strength of a dragon, \n",
      "the Peony-dragon was a sight to behold. \n",
      "\n",
      "One day, as Xianglong soared through the clouds, it spoke to the wind:\n",
      "'The Jade Lotus must be found, for only then can the balance be restored.'\n",
      "\n",
      "It ventured through dense forests and crossed rivers, its peony petals glowing in the moonlight.\n",
      "\n",
      "'Do not fear,' said the creature, 'For the heart of a dragon is as strong as a thousand storms.'\n",
      "\n",
      "And so, the Peony-dragon continued its journey, determined to fulfill its ancient destiny.\n",
      "\n"
     ]
    }
   ],
   "source": [
    "# Creating a new creature by blending a flower with an animal\n",
    "flower = \"peony\"  # A famous Chinese flower\n",
    "animal = \"dragon\"  # A mythical Chinese animal\n",
    "creature = f\"{flower.capitalize()}-dragon\"\n",
    "\n",
    "# Displaying the new creature using quotes and template literals\n",
    "print(f\"New Creature: {creature}\")\n",
    "print(\"Description: A majestic combination of beauty and power.\")\n",
    "\n",
    "# Story about the new creature\n",
    "name = \"Xianglong\"  # The name of the creature\n",
    "location = \"the mountains of Jiangnan\"  # Where the creature lives\n",
    "adventure = \"seeking the legendary Jade Lotus\"  # Creature's mission\n",
    "\n",
    "story = f\"\"\"\n",
    "In the mystical lands of {location}, a creature known as {name} roamed freely. \n",
    "With the delicate petals of a {flower} and the fierce strength of a {animal}, \n",
    "the {creature} was a sight to behold. \n",
    "\n",
    "One day, as {name} soared through the clouds, it spoke to the wind:\n",
    "'The Jade Lotus must be found, for only then can the balance be restored.'\n",
    "\n",
    "It ventured through dense forests and crossed rivers, its peony petals glowing in the moonlight.\n",
    "\n",
    "'Do not fear,' said the creature, 'For the heart of a dragon is as strong as a thousand storms.'\n",
    "\n",
    "And so, the {creature} continued its journey, determined to fulfill its ancient destiny.\n",
    "\"\"\"\n",
    "\n",
    "# Printing the short story\n",
    "print(story)"
   ]
  },
  {
   "cell_type": "markdown",
   "metadata": {},
   "source": [
    "# Homework hack 1\n",
    "### requirements:\n",
    "- Make a text analyzer with strings that accepts input from the user. Extra/ Bonus: make two additional input systems where user can replace words of the original input."
   ]
  },
  {
   "cell_type": "code",
   "execution_count": 1,
   "metadata": {
    "vscode": {
     "languageId": "html"
    }
   },
   "outputs": [
    {
     "data": {
      "application/javascript": "<script>\n  // Function to analyze the text\n  function analyzeText() {\n    let text = document.getElementById(\"userInput\").value;\n    \n    // Display original text\n    document.getElementById(\"originalText\").innerText = \"Original Text: \" + text;\n\n    // Count total characters (including spaces)\n    let charCount = text.length;\n    document.getElementById(\"charCount\").innerText = \"Total Characters (with spaces): \" + charCount;\n\n    // Find the longest word\n    let words = text.match(/\\b\\w+\\b/g); // Matches words, excluding spaces and special characters\n    let longestWord = words.reduce((a, b) => a.length > b.length ? a : b);\n    document.getElementById(\"longestWord\").innerText = \"Longest Word: \" + longestWord + \" (\" + longestWord.length + \" characters)\";\n\n    // Reverse the text\n    let reversedText = text.split('').reverse().join('');\n    document.getElementById(\"reversedText\").innerText = \"Reversed Text: \" + reversedText;\n\n    // Find the middle character (excluding spaces and special characters)\n    let textWithoutSpaces = text.replace(/\\s+/g, '').replace(/[^a-zA-Z0-9]/g, ''); // Removes spaces and non-alphanumeric characters\n    let middleIndex = Math.floor(textWithoutSpaces.length / 2);\n    let middleChar = textWithoutSpaces[middleIndex];\n    document.getElementById(\"middleCharacter\").innerText = \"Middle Character: \" + middleChar;\n  }\n\n  // Function to replace a word\n  function replaceWord() {\n    let text = document.getElementById(\"userInput\").value;\n    let wordToReplace = document.getElementById(\"wordToReplace\").value;\n    let replacementWord = document.getElementById(\"replacementWord\").value;\n    \n    if (!text.includes(wordToReplace)) {\n      document.getElementById(\"replaceResult\").innerText = \"Word to replace not found!\";\n      return;\n    }\n    \n    let replacedText = text.split(' ').map(word => word === wordToReplace ? replacementWord : word).join(' ');\n    document.getElementById(\"replaceResult\").innerText = \"Replaced Text: \" + replacedText;\n  }\n</script>\n",
      "text/plain": [
       "<IPython.core.display.Javascript object>"
      ]
     },
     "metadata": {},
     "output_type": "display_data"
    }
   ],
   "source": [
    "%%js\n",
    "<script>\n",
    "  // Function to analyze the text\n",
    "  function analyzeText() {\n",
    "    let text = document.getElementById(\"userInput\").value;\n",
    "    \n",
    "    // Display original text\n",
    "    document.getElementById(\"originalText\").innerText = \"Original Text: \" + text;\n",
    "\n",
    "    // Count total characters (including spaces)\n",
    "    let charCount = text.length;\n",
    "    document.getElementById(\"charCount\").innerText = \"Total Characters (with spaces): \" + charCount;\n",
    "\n",
    "    // Find the longest word\n",
    "    let words = text.match(/\\b\\w+\\b/g); // Matches words, excluding spaces and special characters\n",
    "    let longestWord = words.reduce((a, b) => a.length > b.length ? a : b);\n",
    "    document.getElementById(\"longestWord\").innerText = \"Longest Word: \" + longestWord + \" (\" + longestWord.length + \" characters)\";\n",
    "\n",
    "    // Reverse the text\n",
    "    let reversedText = text.split('').reverse().join('');\n",
    "    document.getElementById(\"reversedText\").innerText = \"Reversed Text: \" + reversedText;\n",
    "\n",
    "    // Find the middle character (excluding spaces and special characters)\n",
    "    let textWithoutSpaces = text.replace(/\\s+/g, '').replace(/[^a-zA-Z0-9]/g, ''); // Removes spaces and non-alphanumeric characters\n",
    "    let middleIndex = Math.floor(textWithoutSpaces.length / 2);\n",
    "    let middleChar = textWithoutSpaces[middleIndex];\n",
    "    document.getElementById(\"middleCharacter\").innerText = \"Middle Character: \" + middleChar;\n",
    "  }\n",
    "\n",
    "  // Function to replace a word\n",
    "  function replaceWord() {\n",
    "    let text = document.getElementById(\"userInput\").value;\n",
    "    let wordToReplace = document.getElementById(\"wordToReplace\").value;\n",
    "    let replacementWord = document.getElementById(\"replacementWord\").value;\n",
    "    \n",
    "    if (!text.includes(wordToReplace)) {\n",
    "      document.getElementById(\"replaceResult\").innerText = \"Word to replace not found!\";\n",
    "      return;\n",
    "    }\n",
    "    \n",
    "    let replacedText = text.split(' ').map(word => word === wordToReplace ? replacementWord : word).join(' ');\n",
    "    document.getElementById(\"replaceResult\").innerText = \"Replaced Text: \" + replacedText;\n",
    "  }\n",
    "</script>"
   ]
  }
 ],
 "metadata": {
  "kernelspec": {
   "display_name": "Python 3",
   "language": "python",
   "name": "python3"
  },
  "language_info": {
   "codemirror_mode": {
    "name": "ipython",
    "version": 3
   },
   "file_extension": ".py",
   "mimetype": "text/x-python",
   "name": "python",
   "nbconvert_exporter": "python",
   "pygments_lexer": "ipython3",
   "version": "3.12.3"
  }
 },
 "nbformat": 4,
 "nbformat_minor": 2
}
