{
 "cells": [
  {
   "cell_type": "raw",
   "metadata": {
    "vscode": {
     "languageId": "raw"
    }
   },
   "source": [
    "---\n",
    "toc: false\n",
    "comments: true\n",
    "layout: post\n",
    "description: popcorn and homework hack for 3.4\n",
    "permalink: /four/\n",
    "author: Collin\n",
    "---"
   ]
  },
  {
   "cell_type": "markdown",
   "metadata": {},
   "source": [
    "# Homework hack 1\n",
    "### requirements:\n",
    "- Make a text analyzer with strings that accepts input from the user. Extra/ Bonus: make two additional input systems where user can replace words of the original input."
   ]
  },
  {
   "cell_type": "code",
   "execution_count": null,
   "metadata": {
    "vscode": {
     "languageId": "html"
    }
   },
   "outputs": [],
   "source": [
    "<!DOCTYPE html>\n",
    "<html>\n",
    "<head>\n",
    "  <title>Text Analyzer</title>\n",
    "</head>\n",
    "<body>\n",
    "  <h2>Text Analyzer</h2>\n",
    "  \n",
    "  <!-- Text input field -->\n",
    "  <p>Enter your text:</p>\n",
    "  <textarea id=\"userInput\" rows=\"4\" cols=\"50\"></textarea><br><br>\n",
    "  \n",
    "  <!-- Button to trigger text analysis -->\n",
    "  <button onclick=\"analyzeText()\">Analyze Text</button>\n",
    "  \n",
    "  <!-- Display results of analysis -->\n",
    "  <h3>Analysis Result:</h3>\n",
    "  <p id=\"originalText\"></p>\n",
    "  <p id=\"charCount\"></p>\n",
    "  <p id=\"longestWord\"></p>\n",
    "  <p id=\"reversedText\"></p>\n",
    "  <p id=\"middleCharacter\"></p>\n",
    "\n",
    "  <!-- Word replacement fields -->\n",
    "  <h3>Replace Word:</h3>\n",
    "  <p>Replace a word:</p>\n",
    "  <input type=\"text\" id=\"wordToReplace\" placeholder=\"Word to replace\">\n",
    "  <input type=\"text\" id=\"replacementWord\" placeholder=\"Replacement word\">\n",
    "  <button onclick=\"replaceWord()\">Replace Word</button>\n",
    "  \n",
    "  <!-- Display result of word replacement -->\n",
    "  <p id=\"replaceResult\"></p>\n",
    "\n",
    "  <!-- Your script goes here -->\n",
    "  <script>\n",
    "    // Function to analyze the text\n",
    "    function analyzeText() {\n",
    "      let text = document.getElementById(\"userInput\").value;\n",
    "      \n",
    "      // Display original text\n",
    "      document.getElementById(\"originalText\").innerText = \"Original Text: \" + text;\n",
    "\n",
    "      // Count total characters (including spaces)\n",
    "      let charCount = text.length;\n",
    "      document.getElementById(\"charCount\").innerText = \"Total Characters (with spaces): \" + charCount;\n",
    "\n",
    "      // Find the longest word\n",
    "      let words = text.match(/\\b\\w+\\b/g); // Matches words, excluding spaces and special characters\n",
    "      let longestWord = words.reduce((a, b) => a.length > b.length ? a : b);\n",
    "      document.getElementById(\"longestWord\").innerText = \"Longest Word: \" + longestWord + \" (\" + longestWord.length + \" characters)\";\n",
    "\n",
    "      // Reverse the text\n",
    "      let reversedText = text.split('').reverse().join('');\n",
    "      document.getElementById(\"reversedText\").innerText = \"Reversed Text: \" + reversedText;\n",
    "\n",
    "      // Find the middle character (excluding spaces and special characters)\n",
    "      let textWithoutSpaces = text.replace(/\\s+/g, '').replace(/[^a-zA-Z0-9]/g, ''); // Removes spaces and non-alphanumeric characters\n",
    "      let middleIndex = Math.floor(textWithoutSpaces.length / 2);\n",
    "      let middleChar = textWithoutSpaces[middleIndex];\n",
    "      document.getElementById(\"middleCharacter\").innerText = \"Middle Character: \" + middleChar;\n",
    "    }\n",
    "\n",
    "    // Function to replace a word\n",
    "    function replaceWord() {\n",
    "      let text = document.getElementById(\"userInput\").value;\n",
    "      let wordToReplace = document.getElementById(\"wordToReplace\").value;\n",
    "      let replacementWord = document.getElementById(\"replacementWord\").value;\n",
    "      \n",
    "      if (!text.includes(wordToReplace)) {\n",
    "        document.getElementById(\"replaceResult\").innerText = \"Word to replace not found!\";\n",
    "        return;\n",
    "      }\n",
    "      \n",
    "      let replacedText = text.split(' ').map(word => word === wordToReplace ? replacementWord : word).join(' ');\n",
    "      document.getElementById(\"replaceResult\").innerText = \"Replaced Text: \" + replacedText;\n",
    "    }\n",
    "  </script>\n",
    "</body>\n",
    "</html>"
   ]
  }
 ],
 "metadata": {
  "language_info": {
   "name": "python"
  }
 },
 "nbformat": 4,
 "nbformat_minor": 2
}
