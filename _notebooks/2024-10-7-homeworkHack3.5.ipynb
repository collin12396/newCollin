{
 "cells": [
  {
   "cell_type": "raw",
   "metadata": {
    "vscode": {
     "languageId": "raw"
    }
   },
   "source": [
    "---\n",
    "toc: false\n",
    "comments: true\n",
    "layout: post\n",
    "description: popcorn and homework hack for 3.5\n",
    "permalink: /five/\n",
    "author: Collin\n",
    "---"
   ]
  },
  {
   "cell_type": "markdown",
   "metadata": {},
   "source": [
    "<style>\n",
    "\t.glow {\n",
    "\t\tborder-radius: 20%;\n",
    "\t}\n",
    "\t.glow:hover {\n",
    "\t\tcolor: black;\n",
    "\t\tbackground: gray;\n",
    "\t\tbox-shadow: 0 0 100px gray;\n",
    "\t}\n",
    "</style>\n",
    "\n",
    "# <span class=\"glow\" style=\"font-family: Monospace; color: white\"> 3.5 popcorn hack 1-4</span>"
   ]
  },
  {
   "cell_type": "code",
   "execution_count": 19,
   "metadata": {},
   "outputs": [
    {
     "name": "stdout",
     "output_type": "stream",
     "text": [
      "The number is negative.\n",
      "The number is non-negative.\n",
      "The number is non-negative.\n"
     ]
    }
   ],
   "source": [
    "def check_number(num):\n",
    "    if num < 0:\n",
    "        print(\"The number is negative.\")\n",
    "    else:\n",
    "        print(\"The number is non-negative.\")\n",
    "\n",
    "# Example Usage:\n",
    "check_number(-5)  # Output: The number is negative.\n",
    "check_number(3)   # Output: The number is non-negative.\n",
    "check_number(0)   # Output: The number is non-negative."
   ]
  },
  {
   "cell_type": "markdown",
   "metadata": {},
   "source": [
    "### requirement\n",
    "- Check Scores: Confirms if both scores are at least 70. Output: Prints if the student passed both subjects."
   ]
  },
  {
   "cell_type": "code",
   "execution_count": 20,
   "metadata": {},
   "outputs": [
    {
     "name": "stdout",
     "output_type": "stream",
     "text": [
      "The student passed both subjects.\n",
      "The student did not pass both subjects.\n",
      "The student passed both subjects.\n"
     ]
    }
   ],
   "source": [
    "def check_scores(score1, score2):\n",
    "    if score1 >= 70 and score2 >= 70:\n",
    "        print(\"The student passed both subjects.\")\n",
    "    else:\n",
    "        print(\"The student did not pass both subjects.\")\n",
    "\n",
    "# Example Usage:\n",
    "check_scores(75, 80)  # Output: The student passed both subjects.\n",
    "check_scores(65, 80)  # Output: The student did not pass both subjects.\n",
    "check_scores(70, 70)  # Output: The student passed both subjects."
   ]
  },
  {
   "cell_type": "markdown",
   "metadata": {},
   "source": [
    "### requirement\n",
    "- Check Vowel: Checks if char is in the string ‘aeiou’. Output: Prints whether the character is a vowel or not."
   ]
  },
  {
   "cell_type": "code",
   "execution_count": 21,
   "metadata": {},
   "outputs": [
    {
     "name": "stdout",
     "output_type": "stream",
     "text": [
      "a is a vowel.\n",
      "b is not a vowel.\n",
      "E is a vowel.\n",
      "z is not a vowel.\n"
     ]
    }
   ],
   "source": [
    "def check_vowel(char):\n",
    "    if char.lower() in 'aeiou':\n",
    "        print(f\"{char} is a vowel.\")\n",
    "    else:\n",
    "        print(f\"{char} is not a vowel.\")\n",
    "\n",
    "# Example Usage:\n",
    "check_vowel('a')  # Output: a is a vowel.\n",
    "check_vowel('b')  # Output: b is not a vowel.\n",
    "check_vowel('E')  # Output: E is a vowel.\n",
    "check_vowel('z')  # Output: z is not a vowel."
   ]
  },
  {
   "cell_type": "markdown",
   "metadata": {},
   "source": [
    "### requirement\n",
    "- Use what you learned from relational operators to identify which number is bigger from a list of numbers, and order them from least to greatest."
   ]
  },
  {
   "cell_type": "code",
   "execution_count": 23,
   "metadata": {
    "vscode": {
     "languageId": "javascript"
    }
   },
   "outputs": [
    {
     "data": {
      "application/javascript": "function orderNumbers(numbers) {\n    let smallest = Math.min(...numbers);\n    let largest = Math.max(...numbers);\n    \n    let sortedNumbers = numbers.sort((a, b) => a - b);\n    \n    console.log(\"Smallest:\", smallest);\n    console.log(\"Largest:\", largest);\n    console.log(\"Sorted numbers:\", sortedNumbers);\n}\n\n// Example Usage:\norderNumbers([5, 2, 9, 1, 7]);\n// Output:\n// Smallest: 1\n// Largest: 9\n// Sorted numbers: [1, 2, 5, 7, 9]\n",
      "text/plain": [
       "<IPython.core.display.Javascript object>"
      ]
     },
     "metadata": {},
     "output_type": "display_data"
    }
   ],
   "source": [
    "%%js\n",
    "function orderNumbers(numbers) {\n",
    "    let smallest = Math.min(...numbers);\n",
    "    let largest = Math.max(...numbers);\n",
    "    \n",
    "    let sortedNumbers = numbers.sort((a, b) => a - b);\n",
    "    \n",
    "    console.log(\"Smallest:\", smallest);\n",
    "    console.log(\"Largest:\", largest);\n",
    "    console.log(\"Sorted numbers:\", sortedNumbers);\n",
    "}\n",
    "\n",
    "// Example Usage:\n",
    "orderNumbers([5, 2, 9, 1, 7]);\n",
    "// Output:\n",
    "// Smallest: 1\n",
    "// Largest: 9\n",
    "// Sorted numbers: [1, 2, 5, 7, 9]"
   ]
  },
  {
   "cell_type": "markdown",
   "metadata": {},
   "source": [
    "<style>\n",
    "\t.glow {\n",
    "\t\tborder-radius: 20%;\n",
    "\t}\n",
    "\t.glow:hover {\n",
    "\t\tcolor: black;\n",
    "\t\tbackground: gray;\n",
    "\t\tbox-shadow: 0 0 100px gray;\n",
    "\t}\n",
    "</style>\n",
    "\n",
    "# <span class=\"glow\" style=\"font-family: Monospace; color: white\"> 3.5 homework hacks</span>"
   ]
  },
  {
   "cell_type": "markdown",
   "metadata": {},
   "source": [
    "### homework 1 Python"
   ]
  },
  {
   "cell_type": "code",
   "execution_count": 24,
   "metadata": {},
   "outputs": [
    {
     "name": "stdout",
     "output_type": "stream",
     "text": [
      "A B | Expression\n",
      "----------------\n",
      "0 0 | 0\n",
      "0 1 | 0\n",
      "1 0 | 0\n",
      "1 1 | 1\n"
     ]
    }
   ],
   "source": [
    "import itertools\n",
    "\n",
    "def truth_table(expression):\n",
    "    # Variables A, B, C, etc.\n",
    "    variables = ['A', 'B']\n",
    "    \n",
    "    # Generate all possible combinations of truth values (True, False)\n",
    "    table = list(itertools.product([False, True], repeat=len(variables)))\n",
    "    \n",
    "    # Print the table header\n",
    "    print(\" \".join(variables) + \" | Expression\")\n",
    "    print(\"-\" * (len(variables) * 2 + 12))\n",
    "    \n",
    "    # Evaluate the expression for each row in the table\n",
    "    for row in table:\n",
    "        # Map the row values to variables\n",
    "        env = dict(zip(variables, row))\n",
    "        # Evaluate the expression with current values of A and B\n",
    "        result = eval(expression, {}, env)\n",
    "        # Print the row and result\n",
    "        print(\" \".join([str(int(val)) for val in row]) + \" | \" + str(int(result)))\n",
    "\n",
    "# Example usage: generating a truth table for A AND B\n",
    "truth_table(\"A and B\")\n",
    "\n",
    "# Output for A AND B:\n",
    "# A B | Expression\n",
    "# ---------\n",
    "# 1 1 | 1\n",
    "# 1 0 | 0\n",
    "# 0 1 | 0\n",
    "# 0 0 | 0"
   ]
  },
  {
   "cell_type": "markdown",
   "metadata": {},
   "source": [
    "### homework 2 python"
   ]
  },
  {
   "cell_type": "code",
   "execution_count": 25,
   "metadata": {},
   "outputs": [
    {
     "name": "stdout",
     "output_type": "stream",
     "text": [
      "Welcome to the De Morgan's Law Game!\n",
      "You need to guess the correct result for logical expressions using De Morgan's Law.\n",
      "\n",
      "Which is the correct result?\n",
      "a) NOT (A OR B) is equivalent to (NOT A AND NOT B)\n",
      "b) (NOT A AND NOT B) is equivalent to NOT (A OR B)\n",
      "Oops! That's incorrect. Try again.\n",
      "\n",
      "Now, try the following:\n",
      "What is the equivalent of (NOT A OR NOT B)?\n",
      "a) NOT (A AND B)\n",
      "b) (NOT A OR NOT B) is equivalent to A AND B\n",
      "Oops! That's incorrect. The correct answer is 'a'.\n"
     ]
    }
   ],
   "source": [
    "def de_morgan_game():\n",
    "    print(\"Welcome to the De Morgan's Law Game!\")\n",
    "    print(\"You need to guess the correct result for logical expressions using De Morgan's Law.\")\n",
    "    \n",
    "    # Ask the player to solve (NOT A AND NOT B) == NOT (A OR B)\n",
    "    print(\"\\nWhich is the correct result?\")\n",
    "    print(\"a) NOT (A OR B) is equivalent to (NOT A AND NOT B)\")\n",
    "    print(\"b) (NOT A AND NOT B) is equivalent to NOT (A OR B)\")\n",
    "    \n",
    "    # Input answer\n",
    "    answer = input(\"Enter your choice (a or b): \").strip().lower()\n",
    "    \n",
    "    # Correct answer is 'b'\n",
    "    if answer == 'b':\n",
    "        print(\"Correct! (NOT A AND NOT B) is equivalent to NOT (A OR B).\")\n",
    "    else:\n",
    "        print(\"Oops! That's incorrect. Try again.\")\n",
    "    \n",
    "    # Additional quiz (for more engagement)\n",
    "    print(\"\\nNow, try the following:\")\n",
    "    print(\"What is the equivalent of (NOT A OR NOT B)?\")\n",
    "    print(\"a) NOT (A AND B)\")\n",
    "    print(\"b) (NOT A OR NOT B) is equivalent to A AND B\")\n",
    "    \n",
    "    answer = input(\"Enter your choice (a or b): \").strip().lower()\n",
    "    \n",
    "    if answer == 'a':\n",
    "        print(\"Correct! (NOT A OR NOT B) is equivalent to NOT (A AND B).\")\n",
    "    else:\n",
    "        print(\"Oops! That's incorrect. The correct answer is 'a'.\")\n",
    "    \n",
    "# Run the game\n",
    "de_morgan_game()"
   ]
  },
  {
   "cell_type": "markdown",
   "metadata": {},
   "source": [
    "### homework 3 javascript"
   ]
  },
  {
   "cell_type": "code",
   "execution_count": 27,
   "metadata": {
    "vscode": {
     "languageId": "javascript"
    }
   },
   "outputs": [
    {
     "data": {
      "application/javascript": "function personalityQuiz() {\n    let score = 0;\n\n    const questions = [\n        { question: \"Do you prefer to spend time alone?\", choices: [\"Yes\", \"No\"], points: [1, 0] },\n        { question: \"Do you enjoy meeting new people?\", choices: [\"Yes\", \"No\"], points: [0, 1] },\n        { question: \"Are you more of a thinker or a feeler?\", choices: [\"Thinker\", \"Feeler\"], points: [1, 0] },\n        { question: \"Do you like taking risks?\", choices: [\"Yes\", \"No\"], points: [0, 1] },\n        { question: \"Do you find it easy to stay organized?\", choices: [\"Yes\", \"No\"], points: [1, 0] },\n        { question: \"Do you prefer routines over spontaneity?\", choices: [\"Yes\", \"No\"], points: [1, 0] },\n        { question: \"Do you enjoy working in groups?\", choices: [\"Yes\", \"No\"], points: [0, 1] },\n        { question: \"Are you more introverted than extroverted?\", choices: [\"Yes\", \"No\"], points: [1, 0] },\n        { question: \"Do you tend to be optimistic?\", choices: [\"Yes\", \"No\"], points: [1, 0] },\n        { question: \"Do you prefer thinking through decisions or following your gut?\", choices: [\"Thinking\", \"Gut\"], points: [1, 0] }\n    ];\n\n    for (let i = 0; i < questions.length; i++) {\n        let answer = prompt(questions[i].question + \"\\n\" + \"1. \" + questions[i].choices[0] + \"\\n2. \" + questions[i].choices[1]);\n        if (answer === '1') {\n            score += questions[i].points[0];\n        } else if (answer === '2') {\n            score += questions[i].points[1];\n        } else {\n            alert(\"Invalid choice, try again.\");\n            i--; // Repeat the same question\n        }\n    }\n\n    // Output personality based on score\n    if (score >= 15) {\n        alert(\"You are an analytical and structured individual. You value organization and logical thinking.\");\n    } else if (score >= 10) {\n        alert(\"You are balanced and adaptable, comfortable with both routine and spontaneity.\");\n    } else {\n        alert(\"You are a free spirit, often spontaneous and enjoy taking risks!\");\n    }\n}\n\n// Run the quiz\npersonalityQuiz();\n",
      "text/plain": [
       "<IPython.core.display.Javascript object>"
      ]
     },
     "metadata": {},
     "output_type": "display_data"
    }
   ],
   "source": [
    "%%js\n",
    "function personalityQuiz() {\n",
    "    let score = 0;\n",
    "\n",
    "    const questions = [\n",
    "        { question: \"Do you prefer to spend time alone?\", choices: [\"Yes\", \"No\"], points: [1, 0] },\n",
    "        { question: \"Do you enjoy meeting new people?\", choices: [\"Yes\", \"No\"], points: [0, 1] },\n",
    "        { question: \"Are you more of a thinker or a feeler?\", choices: [\"Thinker\", \"Feeler\"], points: [1, 0] },\n",
    "        { question: \"Do you like taking risks?\", choices: [\"Yes\", \"No\"], points: [0, 1] },\n",
    "        { question: \"Do you find it easy to stay organized?\", choices: [\"Yes\", \"No\"], points: [1, 0] },\n",
    "        { question: \"Do you prefer routines over spontaneity?\", choices: [\"Yes\", \"No\"], points: [1, 0] },\n",
    "        { question: \"Do you enjoy working in groups?\", choices: [\"Yes\", \"No\"], points: [0, 1] },\n",
    "        { question: \"Are you more introverted than extroverted?\", choices: [\"Yes\", \"No\"], points: [1, 0] },\n",
    "        { question: \"Do you tend to be optimistic?\", choices: [\"Yes\", \"No\"], points: [1, 0] },\n",
    "        { question: \"Do you prefer thinking through decisions or following your gut?\", choices: [\"Thinking\", \"Gut\"], points: [1, 0] }\n",
    "    ];\n",
    "\n",
    "    for (let i = 0; i < questions.length; i++) {\n",
    "        let answer = prompt(questions[i].question + \"\\n\" + \"1. \" + questions[i].choices[0] + \"\\n2. \" + questions[i].choices[1]);\n",
    "        if (answer === '1') {\n",
    "            score += questions[i].points[0];\n",
    "        } else if (answer === '2') {\n",
    "            score += questions[i].points[1];\n",
    "        } else {\n",
    "            alert(\"Invalid choice, try again.\");\n",
    "            i--; // Repeat the same question\n",
    "        }\n",
    "    }\n",
    "\n",
    "    // Output personality based on score\n",
    "    if (score >= 15) {\n",
    "        alert(\"You are an analytical and structured individual. You value organization and logical thinking.\");\n",
    "    } else if (score >= 10) {\n",
    "        alert(\"You are balanced and adaptable, comfortable with both routine and spontaneity.\");\n",
    "    } else {\n",
    "        alert(\"You are a free spirit, often spontaneous and enjoy taking risks!\");\n",
    "    }\n",
    "}\n",
    "\n",
    "// Run the quiz\n",
    "personalityQuiz();"
   ]
  },
  {
   "cell_type": "markdown",
   "metadata": {
    "vscode": {
     "languageId": "javascript"
    }
   },
   "source": [
    "### homework 4 Javascript"
   ]
  },
  {
   "cell_type": "code",
   "execution_count": 28,
   "metadata": {
    "vscode": {
     "languageId": "javascript"
    }
   },
   "outputs": [
    {
     "data": {
      "application/javascript": "function validatePassword(password) {\n    // Check if the password meets the criteria\n    if (isLongEnough(password) &&\n        containsUppercase(password) &&\n        containsLowercase(password) &&\n        containsNumber(password) &&\n        !containsSpace(password)) {\n        return \"Password is valid!\";\n    } else {\n        return \"Password is invalid. Please ensure it meets the criteria.\";\n    }\n}\n\nfunction isLongEnough(password) {\n    // Password must be at least 10 characters long\n    return password.length >= 10;\n}\n\nfunction containsUppercase(password) {\n    // Password must contain at least one uppercase letter\n    return /[A-Z]/.test(password);\n}\n\nfunction containsLowercase(password) {\n    // Password must contain at least one lowercase letter\n    return /[a-z]/.test(password);\n}\n\nfunction containsNumber(password) {\n    // Password must contain at least one number\n    return /\\d/.test(password);\n}\n\nfunction containsSpace(password) {\n    // Password must not contain any spaces\n    return /\\s/.test(password);\n}\n\n// Example usage:\nconst password = prompt(\"Enter your password: \");\nalert(validatePassword(password));\n",
      "text/plain": [
       "<IPython.core.display.Javascript object>"
      ]
     },
     "metadata": {},
     "output_type": "display_data"
    }
   ],
   "source": [
    "%%js\n",
    "function validatePassword(password) {\n",
    "    // Check if the password meets the criteria\n",
    "    if (isLongEnough(password) &&\n",
    "        containsUppercase(password) &&\n",
    "        containsLowercase(password) &&\n",
    "        containsNumber(password) &&\n",
    "        !containsSpace(password)) {\n",
    "        return \"Password is valid!\";\n",
    "    } else {\n",
    "        return \"Password is invalid. Please ensure it meets the criteria.\";\n",
    "    }\n",
    "}\n",
    "\n",
    "function isLongEnough(password) {\n",
    "    // Password must be at least 10 characters long\n",
    "    return password.length >= 10;\n",
    "}\n",
    "\n",
    "function containsUppercase(password) {\n",
    "    // Password must contain at least one uppercase letter\n",
    "    return /[A-Z]/.test(password);\n",
    "}\n",
    "\n",
    "function containsLowercase(password) {\n",
    "    // Password must contain at least one lowercase letter\n",
    "    return /[a-z]/.test(password);\n",
    "}\n",
    "\n",
    "function containsNumber(password) {\n",
    "    // Password must contain at least one number\n",
    "    return /\\d/.test(password);\n",
    "}\n",
    "\n",
    "function containsSpace(password) {\n",
    "    // Password must not contain any spaces\n",
    "    return /\\s/.test(password);\n",
    "}\n",
    "\n",
    "// Example usage:\n",
    "const password = prompt(\"Enter your password: \");\n",
    "alert(validatePassword(password));"
   ]
  }
 ],
 "metadata": {
  "kernelspec": {
   "display_name": "Python 3",
   "language": "python",
   "name": "python3"
  },
  "language_info": {
   "codemirror_mode": {
    "name": "ipython",
    "version": 3
   },
   "file_extension": ".py",
   "mimetype": "text/x-python",
   "name": "python",
   "nbconvert_exporter": "python",
   "pygments_lexer": "ipython3",
   "version": "3.12.3"
  }
 },
 "nbformat": 4,
 "nbformat_minor": 2
}
