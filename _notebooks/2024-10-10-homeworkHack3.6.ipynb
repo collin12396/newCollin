{
 "cells": [
  {
   "cell_type": "raw",
   "metadata": {
    "vscode": {
     "languageId": "raw"
    }
   },
   "source": [
    "---\n",
    "toc: false\n",
    "comments: true\n",
    "layout: post\n",
    "description: popcorn and homework hack for 3.6\n",
    "permalink: /six/\n",
    "author: Collin\n",
    "---"
   ]
  },
  {
   "cell_type": "markdown",
   "metadata": {},
   "source": [
    "# Hacks for 3.6"
   ]
  },
  {
   "cell_type": "markdown",
   "metadata": {},
   "source": [
    "## Popcorn hack 1"
   ]
  },
  {
   "cell_type": "code",
   "execution_count": 1,
   "metadata": {},
   "outputs": [
    {
     "name": "stdout",
     "output_type": "stream",
     "text": [
      "It's a warm day\n"
     ]
    }
   ],
   "source": [
    "# Step 1: Add a variable that represents temperature\n",
    "temperature = 70  # You can change this value to test different conditions\n",
    "\n",
    "# Step 2: Check if it's a hot day\n",
    "if temperature >= 80:\n",
    "    print(\"It's a hot day\")\n",
    "# Step 3: Check if it's a warm day\n",
    "elif 60 <= temperature < 80:\n",
    "    print(\"It's a warm day\")\n",
    "# Step 4: Otherwise, print it's a cold day\n",
    "else:\n",
    "    print(\"It's a cold day\")"
   ]
  },
  {
   "cell_type": "markdown",
   "metadata": {},
   "source": [
    "## Popcorn hack 2"
   ]
  },
  {
   "cell_type": "code",
   "execution_count": 3,
   "metadata": {
    "vscode": {
     "languageId": "javascript"
    }
   },
   "outputs": [
    {
     "data": {
      "application/javascript": "let score = 85;\n\nif (score >= 60) {\n    console.log(\"You passed!\");\n} else {\n    console.log(\"You failed!\");\n}\n",
      "text/plain": [
       "<IPython.core.display.Javascript object>"
      ]
     },
     "metadata": {},
     "output_type": "display_data"
    }
   ],
   "source": [
    "%%js // to add an extra lines of code that state the condition when the score is not satisfied. Which is when it is below 60.\n",
    "let score = 85;\n",
    "\n",
    "if (score >= 60) {\n",
    "    console.log(\"You passed!\");\n",
    "} else {\n",
    "    console.log(\"You failed!\");\n",
    "}"
   ]
  },
  {
   "cell_type": "markdown",
   "metadata": {},
   "source": [
    "## Homework hack 1 (Python)"
   ]
  },
  {
   "cell_type": "code",
   "execution_count": 5,
   "metadata": {},
   "outputs": [
    {
     "name": "stdout",
     "output_type": "stream",
     "text": [
      "Even\n",
      "Even\n",
      "Even\n",
      "Odd\n"
     ]
    }
   ],
   "source": [
    "# define that if the number is devisible by 2.\n",
    "def check_odd_even(number):\n",
    "    if number % 2 == 0:\n",
    "        return \"Even\"\n",
    "    else:\n",
    "        return \"Odd\"\n",
    "\n",
    "# Testing the function with different numbers, to see if the definition of the check odd even number work.\n",
    "print(check_odd_even(142))   # Output: Even\n",
    "print(check_odd_even(174))   # Output: Even\n",
    "print(check_odd_even(120))  # Output: Even\n",
    "print(check_odd_even(323))  # Output: Odd"
   ]
  },
  {
   "cell_type": "markdown",
   "metadata": {},
   "source": [
    "## Homwork hack 2 (Python)"
   ]
  },
  {
   "cell_type": "code",
   "execution_count": 6,
   "metadata": {},
   "outputs": [
    {
     "name": "stdout",
     "output_type": "stream",
     "text": [
      "Not a Leap Year\n",
      "Not a Leap Year\n",
      "Leap Year\n",
      "Not a Leap Year\n",
      "Leap Year\n"
     ]
    }
   ],
   "source": [
    "# a chunk of definition that shows the condition of either a leap year or not if satisfied / not satisfied.\n",
    "def leap_year(year):\n",
    "    if (year % 4 == 0 and year % 100 != 0) or (year % 400 == 0):\n",
    "        return \"Leap Year\"\n",
    "    else:\n",
    "        return \"Not a Leap Year\"\n",
    "\n",
    "# insert four input value.\n",
    "print(leap_year(1800))   # Output: Not a Leap Year\n",
    "print(leap_year(2022))   # Output: Not a Leap Year\n",
    "print(leap_year(1600))   # Output: Leap Year\n",
    "print(leap_year(2100))   # Output: Not a Leap Year\n",
    "print(leap_year(2028))   # Output: Leap Year"
   ]
  },
  {
   "cell_type": "markdown",
   "metadata": {},
   "source": [
    "## Homework hacks 3 (Python)"
   ]
  },
  {
   "cell_type": "code",
   "execution_count": 7,
   "metadata": {},
   "outputs": [
    {
     "name": "stdout",
     "output_type": "stream",
     "text": [
      "Cold\n",
      "Warm\n",
      "Moderate\n",
      "Hot\n",
      "Warm\n"
     ]
    }
   ],
   "source": [
    "# like the hacks above, this is another definition that shows the conditions. but the elif code shows that there are multiple contditions in the code.\n",
    "def temperature_range(temperature):\n",
    "    if temperature < 60:\n",
    "        return \"Cold\"\n",
    "    elif 60 <= temperature <= 80:\n",
    "        return \"Warm\"\n",
    "    elif temperature > 85:\n",
    "        return \"Hot\"\n",
    "    else:\n",
    "        return \"Moderate\"  # To handle temperatures between 80 and 85\n",
    "# test each value to see the result.\n",
    "print(temperature_range(50))  \n",
    "print(temperature_range(65))   \n",
    "print(temperature_range(82))   \n",
    "print(temperature_range(90))   \n",
    "print(temperature_range(75))   "
   ]
  },
  {
   "cell_type": "markdown",
   "metadata": {},
   "source": [
    "## Homework hack 1 (Javascript)"
   ]
  },
  {
   "cell_type": "code",
   "execution_count": 8,
   "metadata": {
    "vscode": {
     "languageId": "javascript"
    }
   },
   "outputs": [
    {
     "data": {
      "application/javascript": "// Step 1: Define a function named 'checkVotingEligibility' that takes one parameter 'age'\nfunction checkVotingEligibility(age) {\n    // Step 2: Use an if statement to check if the person's age is 18 or older\n    if (age >= 18) {\n        // Step 3: If the condition is true, return \"You are eligible to vote!\"\n        return \"You are eligible to vote!\";\n    } else {\n        // Step 4: If the condition is false, return \"You are not eligible to vote yet.\"\n        return \"You are not eligible to vote yet.\";\n    }\n}\n\n// Test the different age\nconsole.log(checkVotingEligibility(17));   \nconsole.log(checkVotingEligibility(18));   \nconsole.log(checkVotingEligibility(21));   \n",
      "text/plain": [
       "<IPython.core.display.Javascript object>"
      ]
     },
     "metadata": {},
     "output_type": "display_data"
    }
   ],
   "source": [
    "%%js\n",
    "// Step 1: Define a function named 'checkVotingEligibility' that takes one parameter 'age'\n",
    "function checkVotingEligibility(age) {\n",
    "    // Step 2: Use an if statement to check if the person's age is 18 or older\n",
    "    if (age >= 18) {\n",
    "        // Step 3: If the condition is true, return \"You are eligible to vote!\"\n",
    "        return \"You are eligible to vote!\";\n",
    "    } else {\n",
    "        // Step 4: If the condition is false, return \"You are not eligible to vote yet.\"\n",
    "        return \"You are not eligible to vote yet.\";\n",
    "    }\n",
    "}\n",
    "\n",
    "// Test the different age\n",
    "console.log(checkVotingEligibility(17));   \n",
    "console.log(checkVotingEligibility(18));   \n",
    "console.log(checkVotingEligibility(21));   "
   ]
  },
  {
   "cell_type": "markdown",
   "metadata": {},
   "source": [
    "## Homework Hack 2 (Javascript)"
   ]
  },
  {
   "cell_type": "code",
   "execution_count": 10,
   "metadata": {
    "vscode": {
     "languageId": "javascript"
    }
   },
   "outputs": [
    {
     "data": {
      "application/javascript": "// Function to assign a letter grade based on the score (A: >=90, B: >=80, C: >=70, F: <70)\nfunction getGrade(score) {\n    if (score >= 90) {\n        return \"Grade: A\";\n    } else if (score >= 80) {\n        return \"Grade: B\";\n    } else if (score >= 70) {\n        return \"Grade: C\";\n    } else {\n        return \"Grade: F\";\n    }\n}\n\n// Test of different grade.\nconsole.log(getGrade(91));  // Output: Grade: A\nconsole.log(getGrade(84));  // Output: Grade: B\nconsole.log(getGrade(73));  // Output: Grade: C\nconsole.log(getGrade(69));  // Output: Grade: F\n",
      "text/plain": [
       "<IPython.core.display.Javascript object>"
      ]
     },
     "metadata": {},
     "output_type": "display_data"
    }
   ],
   "source": [
    "%%js\n",
    "// Function to assign a letter grade based on the score (A: >=90, B: >=80, C: >=70, F: <70)\n",
    "function getGrade(score) {\n",
    "    if (score >= 90) {\n",
    "        return \"Grade: A\";\n",
    "    } else if (score >= 80) {\n",
    "        return \"Grade: B\";\n",
    "    } else if (score >= 70) {\n",
    "        return \"Grade: C\";\n",
    "    } else {\n",
    "        return \"Grade: F\";\n",
    "    }\n",
    "}\n",
    "\n",
    "// Test of different grade.\n",
    "console.log(getGrade(91));  \n",
    "console.log(getGrade(84));  \n",
    "console.log(getGrade(73));  \n",
    "console.log(getGrade(69));  "
   ]
  },
  {
   "cell_type": "markdown",
   "metadata": {},
   "source": [
    "## Homework hack 3 (Javascript)"
   ]
  },
  {
   "cell_type": "code",
   "execution_count": 13,
   "metadata": {
    "vscode": {
     "languageId": "javascript"
    }
   },
   "outputs": [
    {
     "data": {
      "application/javascript": "// Function to convert temperatures between Celsius and Fahrenheit based on the scale provided, to define the conditions.\nfunction convertTemperature(value, scale) {\n    if (scale === \"C\") {\n        return (value * 9/5) + 32 + \"°F\";\n    } else if (scale === \"F\") {\n        return ((value - 32) * 5/9) + \"°C\";\n    } else {\n        return \"Error: Invalid scale. Use 'C' for Celsius or 'F' for Fahrenheit.\";\n    }\n}\n\n// Test function with different values and scales\nconsole.log(convertTemperature(25, \"C\"));  \nconsole.log(convertTemperature(77, \"F\"));  \nconsole.log(convertTemperature(100, \"X\")); \n",
      "text/plain": [
       "<IPython.core.display.Javascript object>"
      ]
     },
     "metadata": {},
     "output_type": "display_data"
    }
   ],
   "source": [
    "%%js\n",
    "// Function to convert temperatures between Celsius and Fahrenheit based on the scale provided, to define the conditions.\n",
    "function convertTemperature(value, scale) {\n",
    "    if (scale === \"C\") {\n",
    "        return (value * 9/5) + 32 + \"°F\";\n",
    "    } else if (scale === \"F\") {\n",
    "        return ((value - 32) * 5/9) + \"°C\";\n",
    "    } else {\n",
    "        return \"Error: Invalid scale. Use 'C' for Celsius or 'F' for Fahrenheit.\";\n",
    "    }\n",
    "}\n",
    "\n",
    "// Test function with different values and scales\n",
    "console.log(convertTemperature(25, \"C\"));  \n",
    "console.log(convertTemperature(77, \"F\"));  \n",
    "console.log(convertTemperature(100, \"X\")); \n"
   ]
  }
 ],
 "metadata": {
  "kernelspec": {
   "display_name": "Python 3",
   "language": "python",
   "name": "python3"
  },
  "language_info": {
   "codemirror_mode": {
    "name": "ipython",
    "version": 3
   },
   "file_extension": ".py",
   "mimetype": "text/x-python",
   "name": "python",
   "nbconvert_exporter": "python",
   "pygments_lexer": "ipython3",
   "version": "3.12.3"
  }
 },
 "nbformat": 4,
 "nbformat_minor": 2
}
