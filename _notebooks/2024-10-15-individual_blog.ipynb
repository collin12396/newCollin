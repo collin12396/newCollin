{
 "cells": [
  {
   "cell_type": "code",
   "execution_count": null,
   "metadata": {
    "vscode": {
     "languageId": "plaintext"
    }
   },
   "outputs": [],
   "source": [
    "---\n",
    "toc: false\n",
    "comments: true\n",
    "layout: post\n",
    "description: Individual blog (Sprint 2)\n",
    "permalink: /ivblog/\n",
    "author: Collin\n",
    "---"
   ]
  },
  {
   "cell_type": "markdown",
   "metadata": {},
   "source": [
    "# Individual Blog"
   ]
  },
  {
   "cell_type": "markdown",
   "metadata": {},
   "source": [
    "### Summary Of Sprint 2\n",
    "For the sprint 2 project of CSP, each group will choose a topic from big idea 3 in college board to master. After that, each group will teach the topic to rest of the class and assign homework/popcorn hack to the class to strengthen the understanding of whats going on in each lesson. We did the hacks and submit for a grade and feedback to understand where we did good and where we need improvement. My group chose 3.2, which is a long topic include almost all the topic from rest of the part. Content 3.2.1 - 3.2.9 are listed below:\n",
    "- 3.2.1 - Integers \n",
    "  (Integers are whole numbers, which can be positive, negative, or zero, and do not have decimal points. Used to perform calculation and arithmetic operations)\n",
    "- 3.2.2 - Floats \n",
    "  (A data type used to represent real numbers that have a decimal point. It is used to perform more percise and detailed calculation such as equations in scientific field)\n",
    "- 3.2.3 - String \n",
    "  (String is a sequence of characters. Strings can include letters, numbers, symbols, and whitespace. Strings are used to represent text in a program.)\n",
    "- 3.2.4 - Lists\n",
    "  (List allow coders to print out a list of different items include integers, floats, strings, and etc.)\n",
    "- 3.2.5 - Tuples\n",
    "  (A tuple is an ordered, immutable collection of elements. Tuples are similar to lists, but unlike lists, they cannot be changed once defined.)\n",
    "- 3.2.6 - Dictionaries\n",
    "  (Dictionaries are a built-in data type in Python that allows you to store collections of key-value pairs. They are also known as associative arrays or hash maps in other programming languages.)\n",
    "- 3.2.7 - Sets\n",
    "  (A set in Python is an unordered collection of unique elements. Unlike lists or tuples, sets do not allow duplicates. Sets are useful when you need to eliminate duplicate items or perform mathematical operations like union, intersection, and difference.)\n",
    "- 3.2.8 - Booleans\n",
    "  (A boolean in Python is a data type that can hold one of two possible values: True or False. It is often used in conditional statements to control the flow of a program. )\n",
    "- 3.2.9 - None and Null\n",
    "  (The None keyword is used to define a null value, or no value at all. None is not the same as 0, False, or an empty string. None is a data type of its own (NoneType) and only None can be None.)"
   ]
  },
  {
   "cell_type": "markdown",
   "metadata": {},
   "source": [
    "### Learning Experience From Other Groups\n",
    "I learn the best in 3.3, 3.5 by Kiruthic's group and 3.6, 3.7 by Risha's group. Both of these groups have their outstanding parts in their lesson and make me have the best memory during their lesson and completing their hacks.\n",
    "Risha's group:\n",
    "- Very creative at designing the lesson, such as the real life example provided. Relate coding to what people do everyday.\n",
    "- Beginner friendly. While making the hacks effective to learn the topic, it is not that challenging nor take a lot of time. Good for someone that does not have coding experience like me.\n",
    "- Great idea of making a kahoot. Make everyone in the class engage and study in a form of game/competition.\n",
    "- Motivative extra credit\n",
    "\n",
    "Kiruthic's group:\n",
    "- Provide step by step explaination on their code examples, ensure that everyone can understand what are they trying to show in the coding example.\n",
    "- Real life process used to corporate with coding process. Such as making cookie and wearing shoes in day and take it off after.\n",
    "- Challenging homework hack for each topic make everyone learn better and understand the concepts."
   ]
  },
  {
   "cell_type": "markdown",
   "metadata": {},
   "source": [
    "### Personal Growth and Accomplishment\n",
    "Personal Growth:\n",
    "At the beginning of this project, I have completely no idea on how to use both github and vscode. I got confushed by how they basically function, how things can get deploy, and how to debug. And of course I also have blank knowledge about any content in the big idea 3. But now I am able to use both platform and understand how they function with a basic knowledge of all the contents in the big idea. \n",
    "What I specifically learned: \n",
    "- How to work and not conflict with other teammates in a group repository\n",
    "- How to correctly fix the wrong commit and debug the problem files to make the deploy function work normally\n",
    "- Create, run, and fix the code in a jupyter notebook, and understanding their difference\n",
    "- Understand basic ideas of all the topics in big idea 3 from fresh beginner\n",
    "\n",
    "Accomplishment:\n",
    "While I am learning both soft skills and coding skills from this project, I also contribute to my group during the teaching and be responsible to the homework assigned to me. \n",
    "What I did during Sprint 2:\n",
    "- Responsible and completed lesson for 3.2.1 - 3.2.4\n",
    "- Did good on presentation by giving real life examples and convert coding term to words thats easy to understand\n",
    "- Complete all the homework/popcorn hack on time stay organized\n",
    "- Create popcorn hacks with step by step instructions to make sure it is clear and easy while guaranteed the doer can learn from it.\n",
    "- Help scrum master on checking all the lessons to make sure they are useful and easy to understand to the class"
   ]
  },
  {
   "cell_type": "markdown",
   "metadata": {},
   "source": [
    "### Individual Speech\n",
    "-----------------------------------------------------------------------------------------------------------------------\n",
    "For Sprint 2, focused on Big Idea 3, we worked in groups of 3 to 4, each mastering a topic and teaching the class. This project introduced me to coding and helped me understand how the class system works. We completed homework and popcorn hacks to deepen our understanding, and I contributed significantly by creating four out of nine lessons, specifically 3.2.1 - 3.2.4. My focus was on floats and integers, where I excelled in explaining real-world examples and breaking down code step by step, ensuring everyone could follow along. I made the popcorn hacks easier by providing clear instructions and making the lessons engaging for my classmates.\n",
    "\n",
    "The tools we used, like issue tracking to assign tasks and Slack to post important details, helped keep us organized. This inspired me to create detailed lists and track our progress more effectively in future projects.\n",
    "\n",
    "While everyone presented well, I learned the most from Kiruthic’s group, who simplified complex coding concepts with relatable examples, like making cookies, making it easier for beginners like me. Risha’s group stood out for their creativity, using beginner-friendly examples and real-life applications to explain the code. Their interactive approach with Kahoot made learning fun and engaging.\n",
    "\n",
    "Coming into this project, I knew almost nothing about coding. By the end, I had developed a solid foundation in coding basics and gained valuable teamwork and organizational skills. In conclusion, Sprint 2 not only strengthened my coding abilities but also taught me how to work effectively as part of a team and stay organized — which is a skills that will benefit me in future projects."
   ]
  },
  {
   "cell_type": "markdown",
   "metadata": {},
   "source": [
    "### Additional details\n",
    "- [Team Repository](https://github.com/wendaobao/portfolio_20252)\n",
    "- [My commits](https://github.com/wendaobao/portfolio_20252/commits/main/?author=collin12396) (For some reason there are missing commit in this page that should me there. Because I once deleted the cloned repository and created a new one in a new branch)\n",
    "- [Our lesson](https://nighthawkcoders.github.io/portfolio_2025/csp/big-idea/p4/3-2/)"
   ]
  },
  {
   "cell_type": "markdown",
   "metadata": {},
   "source": [
    "### Portal to my homework hacks\n",
    "- [3.1 Variables](https://collin12396.github.io/newCollinCSP_2025/one/)\n",
    "- [3.3 Mathematical Expression](https://collin12396.github.io/newCollinCSP_2025/three/)\n",
    "- [3.4 Strings](https://collin12396.github.io/newCollinCSP_2025/four/)\n",
    "- [3.5 Booleans](https://collin12396.github.io/newCollinCSP_2025/five/)\n",
    "- [3.6 Conditionals](https://collin12396.github.io/newCollinCSP_2025/six/)\n",
    "- [3.7 Nested Conditionals](https://collin12396.github.io/newCollinCSP_2025/seven/)\n",
    "- [3.8 While loop](https://collin12396.github.io/newCollinCSP_2025/eight/)\n",
    "- [3.10 Lists](https://collin12396.github.io/newCollinCSP_2025/ten/)\n",
    "- [3.10B Lists](https://collin12396.github.io/newCollinCSP_2025/tenb/)"
   ]
  }
 ],
 "metadata": {
  "language_info": {
   "name": "python"
  }
 },
 "nbformat": 4,
 "nbformat_minor": 2
}
