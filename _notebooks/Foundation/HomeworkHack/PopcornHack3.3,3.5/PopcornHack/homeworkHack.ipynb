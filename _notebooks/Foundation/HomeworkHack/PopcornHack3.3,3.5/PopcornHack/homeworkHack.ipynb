{
 "cells": [
  {
   "cell_type": "raw",
   "metadata": {
    "vscode": {
     "languageId": "raw"
    }
   },
   "source": [
    "---\n",
    "toc: false\n",
    "comments: true\n",
    "layout: post\n",
    "description: popcorn and homework hack for 3.3, 3.5\n",
    "permalink: /3.3and3.5/\n",
    "author: Collin\n",
    "---"
   ]
  },
  {
   "cell_type": "markdown",
   "metadata": {},
   "source": [
    "<style>\n",
    "\t.glow {\n",
    "\t\tborder-radius: 20%;\n",
    "\t}\n",
    "\t.glow:hover {\n",
    "\t\tcolor: black;\n",
    "\t\tbackground: gray;\n",
    "\t\tbox-shadow: 0 0 100px gray;\n",
    "\t}\n",
    "</style>\n",
    "\n",
    "# <span class=\"glow\" style=\"font-family: Monospace; color: white\"> 3.3 Popcorn Hack 1</span>"
   ]
  },
  {
   "cell_type": "markdown",
   "metadata": {},
   "source": [
    "### Requirements - Popcorn hack 1\n",
    "- Define a list of integers\n",
    "- Compute the sum of all of the integers\n",
    "- Print the sum"
   ]
  },
  {
   "cell_type": "code",
   "execution_count": 2,
   "metadata": {},
   "outputs": [
    {
     "name": "stdout",
     "output_type": "stream",
     "text": [
      "Step 1 requirement: [11, 14, 25, 45, 250]\n",
      "Calculation complete for step 2\n",
      "Step 3 requirement: 345\n"
     ]
    }
   ],
   "source": [
    "# Step 1 requirement: Define a list of integers\n",
    "numbers = [11, 14, 25, 45, 250]\n",
    "print(\"Step 1 requirement:\", numbers)\n",
    "# Step 2 requirement: Compute the sum of the integers\n",
    "total_sum = sum(numbers)\n",
    "print(\"Calculation complete for step 2\")\n",
    "# Step 3 requirement: Print the sum out\n",
    "print(\"Step 3 requirement:\", total_sum)\n"
   ]
  },
  {
   "cell_type": "markdown",
   "metadata": {},
   "source": [
    "<style>\n",
    "\t.glow {\n",
    "\t\tborder-radius: 20%;\n",
    "\t}\n",
    "\t.glow:hover {\n",
    "\t\tcolor: black;\n",
    "\t\tbackground: gray;\n",
    "\t\tbox-shadow: 0 0 100px gray;\n",
    "\t}\n",
    "</style>\n",
    "\n",
    "# <span class=\"glow\" style=\"font-family: Monospace; color: white\"> 3.3 Popcorn Hack 2</span>"
   ]
  },
  {
   "cell_type": "markdown",
   "metadata": {},
   "source": [
    "### Requirements - Popcorn hack 2\n",
    "- Prompt the user to enter the price per bag of popcorn.\n",
    "- Prompt the user to enter the number of bags they want to buy.\n",
    "- Calculate the total cost using multiplication.\n",
    "- Print the total cost."
   ]
  },
  {
   "cell_type": "code",
   "execution_count": 3,
   "metadata": {},
   "outputs": [
    {
     "name": "stdout",
     "output_type": "stream",
     "text": [
      "Price per bag is five dollars\n",
      "I want to buy 12 bags of popcorn\n",
      "calculate the total cost by time the price and number of bag\n",
      "The total cost is: $ 60\n"
     ]
    }
   ],
   "source": [
    "# Step 1 requirement:\n",
    "price_per_bag = 5\n",
    "print(\"Price per bag is five dollars\")\n",
    "\n",
    "# Step 2 requirement:\n",
    "number_of_bags = 12\n",
    "print(\"I want to buy 12 bags of popcorn\")\n",
    "\n",
    "# Step 3 requirement:\n",
    "total_cost = price_per_bag * number_of_bags\n",
    "print(\"calculate the total cost by time the price and number of bag\")\n",
    "\n",
    "# Step 4 requirement:\n",
    "print(\"The total cost is: $\", total_cost)"
   ]
  },
  {
   "cell_type": "markdown",
   "metadata": {},
   "source": [
    "<style>\n",
    "\t.glow {\n",
    "\t\tborder-radius: 20%;\n",
    "\t}\n",
    "\t.glow:hover {\n",
    "\t\tcolor: black;\n",
    "\t\tbackground: gray;\n",
    "\t\tbox-shadow: 0 0 100px gray;\n",
    "\t}\n",
    "</style>\n",
    "\n",
    "# <span class=\"glow\" style=\"font-family: Monospace; color: white\"> 3.3 Popcorn Hack 3</span>"
   ]
  },
  {
   "cell_type": "markdown",
   "metadata": {},
   "source": [
    "### Requirements - Popcorn hack 3\n",
    "- Prompt the user to enter a number n.\n",
    "- Initialize total_sum to 0.\n",
    "- Use a loop to iterate from 1 to n.\n",
    "- Add each number to total_sum.\n",
    "- Print the total_sum."
   ]
  },
  {
   "cell_type": "code",
   "execution_count": 2,
   "metadata": {},
   "outputs": [
    {
     "name": "stdout",
     "output_type": "stream",
     "text": [
      "The total sum of numbers from 1 to 9 is: 45\n"
     ]
    }
   ],
   "source": [
    "# Step 1 requirement:\n",
    "n = 9\n",
    "\n",
    "# Step 2 requirement:\n",
    "total_sum = 0\n",
    "\n",
    "# Step 3 requirement:\n",
    "for i in range(1, n + 1):\n",
    "    # Step 4 requirement\n",
    "    total_sum += i\n",
    "\n",
    "# Step 5 requirement:\n",
    "print(\"The total sum of numbers from 1 to\", n, \"is:\", total_sum)"
   ]
  },
  {
   "cell_type": "markdown",
   "metadata": {},
   "source": [
    "<style>\n",
    "\t.glow {\n",
    "\t\tborder-radius: 20%;\n",
    "\t}\n",
    "\t.glow:hover {\n",
    "\t\tcolor: black;\n",
    "\t\tbackground: gray;\n",
    "\t\tbox-shadow: 0 0 100px gray;\n",
    "\t}\n",
    "</style>\n",
    "\n",
    "# <span class=\"glow\" style=\"font-family: Monospace; color: white\"> 3.3 Popcorn Hack 4</span>"
   ]
  },
  {
   "cell_type": "markdown",
   "metadata": {},
   "source": [
    "### Requirement\n",
    "- Create a “choose-your-own-path” type of game. There should be 2-3 different storylines the user can choose from (Ex: You see a fight at school. Do you break it up or mind your own buiness.)"
   ]
  },
  {
   "cell_type": "code",
   "execution_count": 12,
   "metadata": {
    "vscode": {
     "languageId": "javascript"
    }
   },
   "outputs": [
    {
     "data": {
      "application/javascript": "// Introduction to the game\nfunction intro() {\n    alert(\"Welcome to the Minecraft Adventure!\");\n    alert(\"You are a brave adventurer in the world of Minecraft.\");\n    alert(\"Your goal is to survive and thrive in the blocky, dangerous world around you.\");\n    alert(\"You find yourself in a peaceful village but things are about to get interesting...\");\n}\n\n// Path 1: Explore the cave\nfunction path1() {\n    let choice = prompt(\"You see a huge cave nearby. Do you want to explore it? (yes/no)\").toLowerCase();\n    if (choice === \"yes\") {\n        alert(\"You enter the cave and find a treasure chest! It's full of diamonds and gold!\");\n        alert(\"Congratulations, you've become rich in Minecraft!\");\n    } else if (choice === \"no\") {\n        alert(\"You decide to stay outside and enjoy the sunshine. A creeper sneaks up on you and explodes!\");\n        alert(\"Game over! But hey, maybe next time stay inside the cave.\");\n    } else {\n        alert(\"Invalid choice. Please type 'yes' or 'no'.\");\n    }\n}\n\n// Path 2: Defend the village from zombies\nfunction path2() {\n    let choice = prompt(\"You spot a village being attacked by a horde of zombies. What do you do? (help/run)\").toLowerCase();\n    if (choice === \"help\") {\n        alert(\"You grab your sword and fight the zombies! After an intense battle, you save the village!\");\n        alert(\"The villagers thank you, and you receive a special enchanted pickaxe as a reward!\");\n    } else if (choice === \"run\") {\n        alert(\"You quickly run away, leaving the villagers to fend for themselves.\");\n        alert(\"Later, you hear the village was overrun and destroyed. Maybe you should've stayed and helped.\");\n    } else {\n        alert(\"Invalid choice. Please type 'help' or 'run'.\");\n    }\n}\n\n// Path 3: Enter the mysterious portal\nfunction path3() {\n    let choice = prompt(\"You find a mysterious portal in the middle of a forest. Do you enter it? (enter/ignore)\").toLowerCase();\n    if (choice === \"enter\") {\n        alert(\"You step into the portal and are transported to the End! You see the Ender Dragon!\");\n        alert(\"It's a tough fight, but you defeat the dragon and become a hero in Minecraft!\");\n    } else if (choice === \"ignore\") {\n        alert(\"You decide to ignore the portal and head back to the village. Nothing exciting happens today.\");\n        alert(\"You live another peaceful day in Minecraft.\");\n    } else {\n        alert(\"Invalid choice. Please type 'enter' or 'ignore'.\");\n    }\n}\n\n// Game Start\nintro();\n\n// Story Options\nlet choice = prompt(\"What would you like to do? Choose one of the following options:\\n1: Explore the cave.\\n2: Help defend the village from zombies.\\n3: Enter the mysterious portal.\");\n\nif (choice === \"1\") {\n    path1();\n} else if (choice === \"2\") {\n    path2();\n} else if (choice === \"3\") {\n    path3();\n} else {\n    alert(\"Invalid choice. Please choose 1, 2, or 3.\");\n}\n",
      "text/plain": [
       "<IPython.core.display.Javascript object>"
      ]
     },
     "metadata": {},
     "output_type": "display_data"
    }
   ],
   "source": [
    "%%js\n",
    "// Introduction to the game\n",
    "function intro() {\n",
    "    alert(\"Welcome to the Minecraft Adventure!\");\n",
    "    alert(\"You are a brave adventurer in the world of Minecraft.\");\n",
    "    alert(\"Your goal is to survive and thrive in the blocky, dangerous world around you.\");\n",
    "    alert(\"You find yourself in a peaceful village but things are about to get interesting...\");\n",
    "}\n",
    "\n",
    "// Path 1: Explore the cave\n",
    "function path1() {\n",
    "    let choice = prompt(\"You see a huge cave nearby. Do you want to explore it? (yes/no)\").toLowerCase();\n",
    "    if (choice === \"yes\") {\n",
    "        alert(\"You enter the cave and find a treasure chest! It's full of diamonds and gold!\");\n",
    "        alert(\"Congratulations, you've become rich in Minecraft!\");\n",
    "    } else if (choice === \"no\") {\n",
    "        alert(\"You decide to stay outside and enjoy the sunshine. A creeper sneaks up on you and explodes!\");\n",
    "        alert(\"Game over! But hey, maybe next time stay inside the cave.\");\n",
    "    } else {\n",
    "        alert(\"Invalid choice. Please type 'yes' or 'no'.\");\n",
    "    }\n",
    "}\n",
    "\n",
    "// Path 2: Defend the village from zombies\n",
    "function path2() {\n",
    "    let choice = prompt(\"You spot a village being attacked by a horde of zombies. What do you do? (help/run)\").toLowerCase();\n",
    "    if (choice === \"help\") {\n",
    "        alert(\"You grab your sword and fight the zombies! After an intense battle, you save the village!\");\n",
    "        alert(\"The villagers thank you, and you receive a special enchanted pickaxe as a reward!\");\n",
    "    } else if (choice === \"run\") {\n",
    "        alert(\"You quickly run away, leaving the villagers to fend for themselves.\");\n",
    "        alert(\"Later, you hear the village was overrun and destroyed. Maybe you should've stayed and helped.\");\n",
    "    } else {\n",
    "        alert(\"Invalid choice. Please type 'help' or 'run'.\");\n",
    "    }\n",
    "}\n",
    "\n",
    "// Path 3: Enter the mysterious portal\n",
    "function path3() {\n",
    "    let choice = prompt(\"You find a mysterious portal in the middle of a forest. Do you enter it? (enter/ignore)\").toLowerCase();\n",
    "    if (choice === \"enter\") {\n",
    "        alert(\"You step into the portal and are transported to the End! You see the Ender Dragon!\");\n",
    "        alert(\"It's a tough fight, but you defeat the dragon and become a hero in Minecraft!\");\n",
    "    } else if (choice === \"ignore\") {\n",
    "        alert(\"You decide to ignore the portal and head back to the village. Nothing exciting happens today.\");\n",
    "        alert(\"You live another peaceful day in Minecraft.\");\n",
    "    } else {\n",
    "        alert(\"Invalid choice. Please type 'enter' or 'ignore'.\");\n",
    "    }\n",
    "}\n",
    "\n",
    "// Game Start\n",
    "intro();\n",
    "\n",
    "// Story Options\n",
    "let choice = prompt(\"What would you like to do? Choose one of the following options:\\n1: Explore the cave.\\n2: Help defend the village from zombies.\\n3: Enter the mysterious portal.\");\n",
    "\n",
    "if (choice === \"1\") {\n",
    "    path1();\n",
    "} else if (choice === \"2\") {\n",
    "    path2();\n",
    "} else if (choice === \"3\") {\n",
    "    path3();\n",
    "} else {\n",
    "    alert(\"Invalid choice. Please choose 1, 2, or 3.\");\n",
    "}\n"
   ]
  },
  {
   "cell_type": "markdown",
   "metadata": {},
   "source": [
    "<style>\n",
    "\t.glow {\n",
    "\t\tborder-radius: 20%;\n",
    "\t}\n",
    "\t.glow:hover {\n",
    "\t\tcolor: black;\n",
    "\t\tbackground: gray;\n",
    "\t\tbox-shadow: 0 0 100px gray;\n",
    "\t}\n",
    "</style>\n",
    "\n",
    "# <span class=\"glow\" style=\"font-family: Monospace; color: white\"> 3.3 Homework Hack</span>"
   ]
  },
  {
   "cell_type": "markdown",
   "metadata": {},
   "source": [
    "### Write a function that has a defined list of integers. The function should\n",
    "- Compute the arithmetic mean.\n",
    "- Compute the median.\n",
    "- Print both results."
   ]
  },
  {
   "cell_type": "code",
   "execution_count": 1,
   "metadata": {},
   "outputs": [
    {
     "name": "stdout",
     "output_type": "stream",
     "text": [
      "Arithmetic mean: 55.0\n",
      "Median: 55.0\n"
     ]
    }
   ],
   "source": [
    "def calculate_mean_median():\n",
    "    # Step 1: Define the list of integers\n",
    "    numbers = [10, 20, 30, 40, 50, 60, 70, 80, 90, 100]\n",
    "    \n",
    "    # Step 2: Calculate the arithmetic mean\n",
    "    mean = sum(numbers) / len(numbers)\n",
    "    \n",
    "    # Step 3: Calculate the median\n",
    "    numbers_sorted = sorted(numbers)\n",
    "    n = len(numbers_sorted)\n",
    "    if n % 2 == 0:\n",
    "        # If even number of elements, median is the average of middle two\n",
    "        median = (numbers_sorted[n//2 - 1] + numbers_sorted[n//2]) / 2\n",
    "    else:\n",
    "        # If odd number of elements, median is the middle element\n",
    "        median = numbers_sorted[n//2]\n",
    "    \n",
    "    # Step 4: Print the mean and median\n",
    "    print(f\"Arithmetic mean: {mean}\")\n",
    "    print(f\"Median: {median}\")\n",
    "\n",
    "# Call the function to see the result\n",
    "calculate_mean_median()"
   ]
  },
  {
   "cell_type": "markdown",
   "metadata": {},
   "source": [
    "### Requirement\n",
    "- Make a function that takes one variable a. This function should list the sequence of numbers in the Collatz problem. The Collatz Problem is a math problem where you start with a positive integer and if it is odd you multiply by 3 and add 1, and if it is even you divide by 2. Use conditionals and keep repeating or iterating this process, and eventually you should reach 1 no matter what number is taken as input. Make an array that starts at the variable a, and keeps adding integers until it reaches 1, and print the sequence."
   ]
  },
  {
   "cell_type": "code",
   "execution_count": 9,
   "metadata": {},
   "outputs": [
    {
     "name": "stdout",
     "output_type": "stream",
     "text": [
      "Collatz sequence: [7, 22, 11, 34, 17, 52, 26, 13, 40, 20, 10, 5, 16, 8, 4, 2, 1]\n"
     ]
    }
   ],
   "source": [
    "def collatz_sequence(a):\n",
    "    sequence = [a]\n",
    "    \n",
    "    # Step 1\n",
    "    while a != 1:\n",
    "        if a % 2 == 0:\n",
    "            a = a // 2  # Divide by 2 for even\n",
    "        else:\n",
    "            a = 3 * a + 1  # Multiply by 3 and add 1 if odd\n",
    "        sequence.append(a)\n",
    "    \n",
    "    # Step 2: Print the sequence\n",
    "    print(\"Collatz sequence:\", sequence)\n",
    "\n",
    "# Call the function with an example starting number\n",
    "collatz_sequence(7)"
   ]
  },
  {
   "cell_type": "markdown",
   "metadata": {},
   "source": [
    "### Requirement\n",
    "- Write a function that takes two variables a and b. The function should:\n",
    "- Compute the Greatest Common Divisor (GCD) of a and b.\n",
    "- Compute the Least Common Multiple (LCM) of a and b.\n",
    "- Return both results as an object."
   ]
  },
  {
   "cell_type": "code",
   "execution_count": 13,
   "metadata": {
    "vscode": {
     "languageId": "javascript"
    }
   },
   "outputs": [
    {
     "data": {
      "application/javascript": "function calculateGCDandLCM(a, b) {\n    // GCD function: Use a basic loop to find GCD\n    function gcd(x, y) {\n        while (y !== 0) {\n            let temp = y;\n            y = x % y;\n            x = temp;\n        }\n        return x;\n    }\n\n    // LCM function: Use GCD to calculate LCM\n    function lcm(x, y) {\n        return (x * y) / gcd(x, y);\n    }\n\n    // Calculate GCD and LCM\n    const gcdResult = gcd(a, b);\n    const lcmResult = lcm(a, b);\n\n    // Return both results as an object\n    return {\n        GCD: gcdResult,\n        LCM: lcmResult\n    };\n}\n\n// Example usage:\nconst a = 12;\nconst b = 18;\nconst result = calculateGCDandLCM(a, b);\n\nconsole.log(\"GCD:\", result.GCD);  // Output GCD\nconsole.log(\"LCM:\", result.LCM);  // Output LCM\n",
      "text/plain": [
       "<IPython.core.display.Javascript object>"
      ]
     },
     "metadata": {},
     "output_type": "display_data"
    }
   ],
   "source": [
    "%%js\n",
    "function calculateGCDandLCM(a, b) {\n",
    "    // GCD function: Use a basic loop to find GCD\n",
    "    function gcd(x, y) {\n",
    "        while (y !== 0) {\n",
    "            let temp = y;\n",
    "            y = x % y;\n",
    "            x = temp;\n",
    "        }\n",
    "        return x;\n",
    "    }\n",
    "\n",
    "    // LCM function: Use GCD to calculate LCM\n",
    "    function lcm(x, y) {\n",
    "        return (x * y) / gcd(x, y);\n",
    "    }\n",
    "\n",
    "    // Calculate GCD and LCM\n",
    "    const gcdResult = gcd(a, b);\n",
    "    const lcmResult = lcm(a, b);\n",
    "\n",
    "    // Return both results as an object\n",
    "    return {\n",
    "        GCD: gcdResult,\n",
    "        LCM: lcmResult\n",
    "    };\n",
    "}\n",
    "\n",
    "// Example usage:\n",
    "const a = 12;\n",
    "const b = 18;\n",
    "const result = calculateGCDandLCM(a, b);\n",
    "\n",
    "console.log(\"GCD:\", result.GCD);  // Output GCD\n",
    "console.log(\"LCM:\", result.LCM);  // Output LCM"
   ]
  },
  {
   "cell_type": "markdown",
   "metadata": {},
   "source": [
    "### requirement\n",
    "- Write a function that takes a positive integer n and returns an array of its prime factors. Prime factors are the prime numbers that divide n exactly, without leaving a remainder. If n is a prime number, the array should simply contain n."
   ]
  },
  {
   "cell_type": "code",
   "execution_count": 18,
   "metadata": {
    "vscode": {
     "languageId": "javascript"
    }
   },
   "outputs": [
    {
     "data": {
      "application/javascript": "function primeFactors(n) {\n    const factors = [];\n    while (n % 2 === 0) {\n        factors.push(2);\n        n /= 2;\n    }\n    \n    // Check for odd numbers starting from 3\n    for (let i = 3; i <= Math.sqrt(n); i += 2) {\n        while (n % i === 0) {\n            factors.push(i);\n            n /= i;\n        }\n    }\n    if (n > 2) {\n        factors.push(n);\n    }\n    \n    return factors;\n}\n\n// Example Usage:\nconsole.log(primeFactors(56));  // Output: [2, 2, 2, 7]\nconsole.log(primeFactors(97));  // Output: [97]\n",
      "text/plain": [
       "<IPython.core.display.Javascript object>"
      ]
     },
     "metadata": {},
     "output_type": "display_data"
    }
   ],
   "source": [
    "%%js\n",
    "function primeFactors(n) {\n",
    "    const factors = [];\n",
    "    while (n % 2 === 0) {\n",
    "        factors.push(2);\n",
    "        n /= 2;\n",
    "    }\n",
    "    \n",
    "    // Check for odd numbers starting from 3\n",
    "    for (let i = 3; i <= Math.sqrt(n); i += 2) {\n",
    "        while (n % i === 0) {\n",
    "            factors.push(i);\n",
    "            n /= i;\n",
    "        }\n",
    "    }\n",
    "    if (n > 2) {\n",
    "        factors.push(n);\n",
    "    }\n",
    "    \n",
    "    return factors;\n",
    "}\n",
    "\n",
    "// Example Usage:\n",
    "console.log(primeFactors(56));  // Output: [2, 2, 2, 7]\n",
    "console.log(primeFactors(97));  // Output: [97]"
   ]
  },
  {
   "cell_type": "markdown",
   "metadata": {},
   "source": [
    "<style>\n",
    "\t.glow {\n",
    "\t\tborder-radius: 20%;\n",
    "\t}\n",
    "\t.glow:hover {\n",
    "\t\tcolor: black;\n",
    "\t\tbackground: gray;\n",
    "\t\tbox-shadow: 0 0 100px gray;\n",
    "\t}\n",
    "</style>\n",
    "\n",
    "# <span class=\"glow\" style=\"font-family: Monospace; color: white\"> 3.5 popcorn hack 1-4</span>"
   ]
  },
  {
   "cell_type": "code",
   "execution_count": 19,
   "metadata": {},
   "outputs": [
    {
     "name": "stdout",
     "output_type": "stream",
     "text": [
      "The number is negative.\n",
      "The number is non-negative.\n",
      "The number is non-negative.\n"
     ]
    }
   ],
   "source": [
    "def check_number(num):\n",
    "    if num < 0:\n",
    "        print(\"The number is negative.\")\n",
    "    else:\n",
    "        print(\"The number is non-negative.\")\n",
    "\n",
    "# Example Usage:\n",
    "check_number(-5)  # Output: The number is negative.\n",
    "check_number(3)   # Output: The number is non-negative.\n",
    "check_number(0)   # Output: The number is non-negative."
   ]
  },
  {
   "cell_type": "markdown",
   "metadata": {},
   "source": [
    "### requirement\n",
    "- Check Scores: Confirms if both scores are at least 70. Output: Prints if the student passed both subjects."
   ]
  },
  {
   "cell_type": "code",
   "execution_count": 20,
   "metadata": {},
   "outputs": [
    {
     "name": "stdout",
     "output_type": "stream",
     "text": [
      "The student passed both subjects.\n",
      "The student did not pass both subjects.\n",
      "The student passed both subjects.\n"
     ]
    }
   ],
   "source": [
    "def check_scores(score1, score2):\n",
    "    if score1 >= 70 and score2 >= 70:\n",
    "        print(\"The student passed both subjects.\")\n",
    "    else:\n",
    "        print(\"The student did not pass both subjects.\")\n",
    "\n",
    "# Example Usage:\n",
    "check_scores(75, 80)  # Output: The student passed both subjects.\n",
    "check_scores(65, 80)  # Output: The student did not pass both subjects.\n",
    "check_scores(70, 70)  # Output: The student passed both subjects."
   ]
  },
  {
   "cell_type": "markdown",
   "metadata": {},
   "source": [
    "### requirement\n",
    "- Check Vowel: Checks if char is in the string ‘aeiou’. Output: Prints whether the character is a vowel or not."
   ]
  },
  {
   "cell_type": "code",
   "execution_count": 21,
   "metadata": {},
   "outputs": [
    {
     "name": "stdout",
     "output_type": "stream",
     "text": [
      "a is a vowel.\n",
      "b is not a vowel.\n",
      "E is a vowel.\n",
      "z is not a vowel.\n"
     ]
    }
   ],
   "source": [
    "def check_vowel(char):\n",
    "    if char.lower() in 'aeiou':\n",
    "        print(f\"{char} is a vowel.\")\n",
    "    else:\n",
    "        print(f\"{char} is not a vowel.\")\n",
    "\n",
    "# Example Usage:\n",
    "check_vowel('a')  # Output: a is a vowel.\n",
    "check_vowel('b')  # Output: b is not a vowel.\n",
    "check_vowel('E')  # Output: E is a vowel.\n",
    "check_vowel('z')  # Output: z is not a vowel."
   ]
  },
  {
   "cell_type": "markdown",
   "metadata": {},
   "source": [
    "### requirement\n",
    "- Use what you learned from relational operators to identify which number is bigger from a list of numbers, and order them from least to greatest."
   ]
  },
  {
   "cell_type": "code",
   "execution_count": 23,
   "metadata": {
    "vscode": {
     "languageId": "javascript"
    }
   },
   "outputs": [
    {
     "data": {
      "application/javascript": "function orderNumbers(numbers) {\n    let smallest = Math.min(...numbers);\n    let largest = Math.max(...numbers);\n    \n    let sortedNumbers = numbers.sort((a, b) => a - b);\n    \n    console.log(\"Smallest:\", smallest);\n    console.log(\"Largest:\", largest);\n    console.log(\"Sorted numbers:\", sortedNumbers);\n}\n\n// Example Usage:\norderNumbers([5, 2, 9, 1, 7]);\n// Output:\n// Smallest: 1\n// Largest: 9\n// Sorted numbers: [1, 2, 5, 7, 9]\n",
      "text/plain": [
       "<IPython.core.display.Javascript object>"
      ]
     },
     "metadata": {},
     "output_type": "display_data"
    }
   ],
   "source": [
    "%%js\n",
    "function orderNumbers(numbers) {\n",
    "    let smallest = Math.min(...numbers);\n",
    "    let largest = Math.max(...numbers);\n",
    "    \n",
    "    let sortedNumbers = numbers.sort((a, b) => a - b);\n",
    "    \n",
    "    console.log(\"Smallest:\", smallest);\n",
    "    console.log(\"Largest:\", largest);\n",
    "    console.log(\"Sorted numbers:\", sortedNumbers);\n",
    "}\n",
    "\n",
    "// Example Usage:\n",
    "orderNumbers([5, 2, 9, 1, 7]);\n",
    "// Output:\n",
    "// Smallest: 1\n",
    "// Largest: 9\n",
    "// Sorted numbers: [1, 2, 5, 7, 9]"
   ]
  },
  {
   "cell_type": "markdown",
   "metadata": {},
   "source": [
    "<style>\n",
    "\t.glow {\n",
    "\t\tborder-radius: 20%;\n",
    "\t}\n",
    "\t.glow:hover {\n",
    "\t\tcolor: black;\n",
    "\t\tbackground: gray;\n",
    "\t\tbox-shadow: 0 0 100px gray;\n",
    "\t}\n",
    "</style>\n",
    "\n",
    "# <span class=\"glow\" style=\"font-family: Monospace; color: white\"> 3.5 homework hacks</span>"
   ]
  },
  {
   "cell_type": "markdown",
   "metadata": {},
   "source": [
    "### homework 1 Python"
   ]
  },
  {
   "cell_type": "code",
   "execution_count": 24,
   "metadata": {},
   "outputs": [
    {
     "name": "stdout",
     "output_type": "stream",
     "text": [
      "A B | Expression\n",
      "----------------\n",
      "0 0 | 0\n",
      "0 1 | 0\n",
      "1 0 | 0\n",
      "1 1 | 1\n"
     ]
    }
   ],
   "source": [
    "import itertools\n",
    "\n",
    "def truth_table(expression):\n",
    "    # Variables A, B, C, etc.\n",
    "    variables = ['A', 'B']\n",
    "    \n",
    "    # Generate all possible combinations of truth values (True, False)\n",
    "    table = list(itertools.product([False, True], repeat=len(variables)))\n",
    "    \n",
    "    # Print the table header\n",
    "    print(\" \".join(variables) + \" | Expression\")\n",
    "    print(\"-\" * (len(variables) * 2 + 12))\n",
    "    \n",
    "    # Evaluate the expression for each row in the table\n",
    "    for row in table:\n",
    "        # Map the row values to variables\n",
    "        env = dict(zip(variables, row))\n",
    "        # Evaluate the expression with current values of A and B\n",
    "        result = eval(expression, {}, env)\n",
    "        # Print the row and result\n",
    "        print(\" \".join([str(int(val)) for val in row]) + \" | \" + str(int(result)))\n",
    "\n",
    "# Example usage: generating a truth table for A AND B\n",
    "truth_table(\"A and B\")\n",
    "\n",
    "# Output for A AND B:\n",
    "# A B | Expression\n",
    "# ---------\n",
    "# 1 1 | 1\n",
    "# 1 0 | 0\n",
    "# 0 1 | 0\n",
    "# 0 0 | 0"
   ]
  },
  {
   "cell_type": "markdown",
   "metadata": {},
   "source": [
    "### homework 2 python"
   ]
  },
  {
   "cell_type": "code",
   "execution_count": 25,
   "metadata": {},
   "outputs": [
    {
     "name": "stdout",
     "output_type": "stream",
     "text": [
      "Welcome to the De Morgan's Law Game!\n",
      "You need to guess the correct result for logical expressions using De Morgan's Law.\n",
      "\n",
      "Which is the correct result?\n",
      "a) NOT (A OR B) is equivalent to (NOT A AND NOT B)\n",
      "b) (NOT A AND NOT B) is equivalent to NOT (A OR B)\n",
      "Oops! That's incorrect. Try again.\n",
      "\n",
      "Now, try the following:\n",
      "What is the equivalent of (NOT A OR NOT B)?\n",
      "a) NOT (A AND B)\n",
      "b) (NOT A OR NOT B) is equivalent to A AND B\n",
      "Oops! That's incorrect. The correct answer is 'a'.\n"
     ]
    }
   ],
   "source": [
    "def de_morgan_game():\n",
    "    print(\"Welcome to the De Morgan's Law Game!\")\n",
    "    print(\"You need to guess the correct result for logical expressions using De Morgan's Law.\")\n",
    "    \n",
    "    # Ask the player to solve (NOT A AND NOT B) == NOT (A OR B)\n",
    "    print(\"\\nWhich is the correct result?\")\n",
    "    print(\"a) NOT (A OR B) is equivalent to (NOT A AND NOT B)\")\n",
    "    print(\"b) (NOT A AND NOT B) is equivalent to NOT (A OR B)\")\n",
    "    \n",
    "    # Input answer\n",
    "    answer = input(\"Enter your choice (a or b): \").strip().lower()\n",
    "    \n",
    "    # Correct answer is 'b'\n",
    "    if answer == 'b':\n",
    "        print(\"Correct! (NOT A AND NOT B) is equivalent to NOT (A OR B).\")\n",
    "    else:\n",
    "        print(\"Oops! That's incorrect. Try again.\")\n",
    "    \n",
    "    # Additional quiz (for more engagement)\n",
    "    print(\"\\nNow, try the following:\")\n",
    "    print(\"What is the equivalent of (NOT A OR NOT B)?\")\n",
    "    print(\"a) NOT (A AND B)\")\n",
    "    print(\"b) (NOT A OR NOT B) is equivalent to A AND B\")\n",
    "    \n",
    "    answer = input(\"Enter your choice (a or b): \").strip().lower()\n",
    "    \n",
    "    if answer == 'a':\n",
    "        print(\"Correct! (NOT A OR NOT B) is equivalent to NOT (A AND B).\")\n",
    "    else:\n",
    "        print(\"Oops! That's incorrect. The correct answer is 'a'.\")\n",
    "    \n",
    "# Run the game\n",
    "de_morgan_game()"
   ]
  },
  {
   "cell_type": "markdown",
   "metadata": {},
   "source": [
    "### homework 3 javascript"
   ]
  },
  {
   "cell_type": "code",
   "execution_count": 27,
   "metadata": {
    "vscode": {
     "languageId": "javascript"
    }
   },
   "outputs": [
    {
     "data": {
      "application/javascript": "function personalityQuiz() {\n    let score = 0;\n\n    const questions = [\n        { question: \"Do you prefer to spend time alone?\", choices: [\"Yes\", \"No\"], points: [1, 0] },\n        { question: \"Do you enjoy meeting new people?\", choices: [\"Yes\", \"No\"], points: [0, 1] },\n        { question: \"Are you more of a thinker or a feeler?\", choices: [\"Thinker\", \"Feeler\"], points: [1, 0] },\n        { question: \"Do you like taking risks?\", choices: [\"Yes\", \"No\"], points: [0, 1] },\n        { question: \"Do you find it easy to stay organized?\", choices: [\"Yes\", \"No\"], points: [1, 0] },\n        { question: \"Do you prefer routines over spontaneity?\", choices: [\"Yes\", \"No\"], points: [1, 0] },\n        { question: \"Do you enjoy working in groups?\", choices: [\"Yes\", \"No\"], points: [0, 1] },\n        { question: \"Are you more introverted than extroverted?\", choices: [\"Yes\", \"No\"], points: [1, 0] },\n        { question: \"Do you tend to be optimistic?\", choices: [\"Yes\", \"No\"], points: [1, 0] },\n        { question: \"Do you prefer thinking through decisions or following your gut?\", choices: [\"Thinking\", \"Gut\"], points: [1, 0] }\n    ];\n\n    for (let i = 0; i < questions.length; i++) {\n        let answer = prompt(questions[i].question + \"\\n\" + \"1. \" + questions[i].choices[0] + \"\\n2. \" + questions[i].choices[1]);\n        if (answer === '1') {\n            score += questions[i].points[0];\n        } else if (answer === '2') {\n            score += questions[i].points[1];\n        } else {\n            alert(\"Invalid choice, try again.\");\n            i--; // Repeat the same question\n        }\n    }\n\n    // Output personality based on score\n    if (score >= 15) {\n        alert(\"You are an analytical and structured individual. You value organization and logical thinking.\");\n    } else if (score >= 10) {\n        alert(\"You are balanced and adaptable, comfortable with both routine and spontaneity.\");\n    } else {\n        alert(\"You are a free spirit, often spontaneous and enjoy taking risks!\");\n    }\n}\n\n// Run the quiz\npersonalityQuiz();\n",
      "text/plain": [
       "<IPython.core.display.Javascript object>"
      ]
     },
     "metadata": {},
     "output_type": "display_data"
    }
   ],
   "source": [
    "%%js\n",
    "function personalityQuiz() {\n",
    "    let score = 0;\n",
    "\n",
    "    const questions = [\n",
    "        { question: \"Do you prefer to spend time alone?\", choices: [\"Yes\", \"No\"], points: [1, 0] },\n",
    "        { question: \"Do you enjoy meeting new people?\", choices: [\"Yes\", \"No\"], points: [0, 1] },\n",
    "        { question: \"Are you more of a thinker or a feeler?\", choices: [\"Thinker\", \"Feeler\"], points: [1, 0] },\n",
    "        { question: \"Do you like taking risks?\", choices: [\"Yes\", \"No\"], points: [0, 1] },\n",
    "        { question: \"Do you find it easy to stay organized?\", choices: [\"Yes\", \"No\"], points: [1, 0] },\n",
    "        { question: \"Do you prefer routines over spontaneity?\", choices: [\"Yes\", \"No\"], points: [1, 0] },\n",
    "        { question: \"Do you enjoy working in groups?\", choices: [\"Yes\", \"No\"], points: [0, 1] },\n",
    "        { question: \"Are you more introverted than extroverted?\", choices: [\"Yes\", \"No\"], points: [1, 0] },\n",
    "        { question: \"Do you tend to be optimistic?\", choices: [\"Yes\", \"No\"], points: [1, 0] },\n",
    "        { question: \"Do you prefer thinking through decisions or following your gut?\", choices: [\"Thinking\", \"Gut\"], points: [1, 0] }\n",
    "    ];\n",
    "\n",
    "    for (let i = 0; i < questions.length; i++) {\n",
    "        let answer = prompt(questions[i].question + \"\\n\" + \"1. \" + questions[i].choices[0] + \"\\n2. \" + questions[i].choices[1]);\n",
    "        if (answer === '1') {\n",
    "            score += questions[i].points[0];\n",
    "        } else if (answer === '2') {\n",
    "            score += questions[i].points[1];\n",
    "        } else {\n",
    "            alert(\"Invalid choice, try again.\");\n",
    "            i--; // Repeat the same question\n",
    "        }\n",
    "    }\n",
    "\n",
    "    // Output personality based on score\n",
    "    if (score >= 15) {\n",
    "        alert(\"You are an analytical and structured individual. You value organization and logical thinking.\");\n",
    "    } else if (score >= 10) {\n",
    "        alert(\"You are balanced and adaptable, comfortable with both routine and spontaneity.\");\n",
    "    } else {\n",
    "        alert(\"You are a free spirit, often spontaneous and enjoy taking risks!\");\n",
    "    }\n",
    "}\n",
    "\n",
    "// Run the quiz\n",
    "personalityQuiz();"
   ]
  },
  {
   "cell_type": "markdown",
   "metadata": {
    "vscode": {
     "languageId": "javascript"
    }
   },
   "source": [
    "### homework 4 Javascript"
   ]
  },
  {
   "cell_type": "code",
   "execution_count": 28,
   "metadata": {
    "vscode": {
     "languageId": "javascript"
    }
   },
   "outputs": [
    {
     "data": {
      "application/javascript": "function validatePassword(password) {\n    // Check if the password meets the criteria\n    if (isLongEnough(password) &&\n        containsUppercase(password) &&\n        containsLowercase(password) &&\n        containsNumber(password) &&\n        !containsSpace(password)) {\n        return \"Password is valid!\";\n    } else {\n        return \"Password is invalid. Please ensure it meets the criteria.\";\n    }\n}\n\nfunction isLongEnough(password) {\n    // Password must be at least 10 characters long\n    return password.length >= 10;\n}\n\nfunction containsUppercase(password) {\n    // Password must contain at least one uppercase letter\n    return /[A-Z]/.test(password);\n}\n\nfunction containsLowercase(password) {\n    // Password must contain at least one lowercase letter\n    return /[a-z]/.test(password);\n}\n\nfunction containsNumber(password) {\n    // Password must contain at least one number\n    return /\\d/.test(password);\n}\n\nfunction containsSpace(password) {\n    // Password must not contain any spaces\n    return /\\s/.test(password);\n}\n\n// Example usage:\nconst password = prompt(\"Enter your password: \");\nalert(validatePassword(password));\n",
      "text/plain": [
       "<IPython.core.display.Javascript object>"
      ]
     },
     "metadata": {},
     "output_type": "display_data"
    }
   ],
   "source": [
    "%%js\n",
    "function validatePassword(password) {\n",
    "    // Check if the password meets the criteria\n",
    "    if (isLongEnough(password) &&\n",
    "        containsUppercase(password) &&\n",
    "        containsLowercase(password) &&\n",
    "        containsNumber(password) &&\n",
    "        !containsSpace(password)) {\n",
    "        return \"Password is valid!\";\n",
    "    } else {\n",
    "        return \"Password is invalid. Please ensure it meets the criteria.\";\n",
    "    }\n",
    "}\n",
    "\n",
    "function isLongEnough(password) {\n",
    "    // Password must be at least 10 characters long\n",
    "    return password.length >= 10;\n",
    "}\n",
    "\n",
    "function containsUppercase(password) {\n",
    "    // Password must contain at least one uppercase letter\n",
    "    return /[A-Z]/.test(password);\n",
    "}\n",
    "\n",
    "function containsLowercase(password) {\n",
    "    // Password must contain at least one lowercase letter\n",
    "    return /[a-z]/.test(password);\n",
    "}\n",
    "\n",
    "function containsNumber(password) {\n",
    "    // Password must contain at least one number\n",
    "    return /\\d/.test(password);\n",
    "}\n",
    "\n",
    "function containsSpace(password) {\n",
    "    // Password must not contain any spaces\n",
    "    return /\\s/.test(password);\n",
    "}\n",
    "\n",
    "// Example usage:\n",
    "const password = prompt(\"Enter your password: \");\n",
    "alert(validatePassword(password));"
   ]
  }
 ],
 "metadata": {
  "kernelspec": {
   "display_name": "Python 3",
   "language": "python",
   "name": "python3"
  },
  "language_info": {
   "codemirror_mode": {
    "name": "ipython",
    "version": 3
   },
   "file_extension": ".py",
   "mimetype": "text/x-python",
   "name": "python",
   "nbconvert_exporter": "python",
   "pygments_lexer": "ipython3",
   "version": "3.12.3"
  }
 },
 "nbformat": 4,
 "nbformat_minor": 2
}
