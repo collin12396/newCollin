{
 "cells": [
  {
   "cell_type": "raw",
   "metadata": {
    "vscode": {
     "languageId": "raw"
    }
   },
   "source": [
    "---\n",
    "toc: false\n",
    "comments: true\n",
    "layout: post\n",
    "description: popcorn and homework hack for 3.10\n",
    "permalink: /ten/\n",
    "author: Collin\n",
    "---"
   ]
  },
  {
   "cell_type": "markdown",
   "metadata": {},
   "source": [
    "# Hacks for 3.10 (Gaheera Group)"
   ]
  },
  {
   "cell_type": "markdown",
   "metadata": {},
   "source": [
    "## Popcorn hack 1"
   ]
  },
  {
   "cell_type": "code",
   "execution_count": 8,
   "metadata": {
    "vscode": {
     "languageId": "javascript"
    }
   },
   "outputs": [
    {
     "data": {
      "application/javascript": "// Initialize an empty array\nlet aList = [];\n\n// Sample user inputs (can be replaced with actual user inputs)\nconst userInputs = [\"apple\", \"banana\", \"cherry\", \"date\", \"elderberry\"];\n\n// Append each user input to the array\nfor (let userInput of userInputs) {\n    aList.push(userInput);\n}\n\n// Print out each item in the list\nfor (let item of aList) {\n    console.log(item);\n}\n",
      "text/plain": [
       "<IPython.core.display.Javascript object>"
      ]
     },
     "metadata": {},
     "output_type": "display_data"
    }
   ],
   "source": [
    "%%js\n",
    "// Initialize an empty array\n",
    "let aList = [];\n",
    "\n",
    "// Sample user inputs (can be replaced with actual user inputs)\n",
    "const userInputs = [\"apple\", \"banana\", \"cherry\", \"date\", \"elderberry\"];\n",
    "\n",
    "// Append each user input to the array\n",
    "for (let userInput of userInputs) {\n",
    "    aList.push(userInput);\n",
    "}\n",
    "\n",
    "// Print out each item in the list\n",
    "for (let item of aList) {\n",
    "    console.log(item);\n",
    "}"
   ]
  },
  {
   "cell_type": "markdown",
   "metadata": {},
   "source": [
    "## Popcorn hack 2"
   ]
  },
  {
   "cell_type": "code",
   "execution_count": 9,
   "metadata": {
    "vscode": {
     "languageId": "javascript"
    }
   },
   "outputs": [
    {
     "data": {
      "application/javascript": "// Initialize an array with items\nlet aList = [\"Item1\", \"Item2\", \"Item3\", \"Item4\", \"Item5\"];\n\n// Check if the second element exists and display it\nif (aList.length >= 2) {\n    console.log(\"Second element before deletion:\", aList[1]);\n} else {\n    console.log(\"There is no second element.\");\n}\n\n// Delete the second element if it exists\nif (aList.length >= 2) {\n    aList.splice(1, 1); // Remove the element at index 1\n}\n\n// Display the updated list\nconsole.log(\"Updated list after deleting the second element:\", aList);\n",
      "text/plain": [
       "<IPython.core.display.Javascript object>"
      ]
     },
     "metadata": {},
     "output_type": "display_data"
    }
   ],
   "source": [
    "%%js\n",
    "// Initialize an array with items\n",
    "let aList = [\"Item1\", \"Item2\", \"Item3\", \"Item4\", \"Item5\"];\n",
    "\n",
    "// Check if the second element exists and display it\n",
    "if (aList.length >= 2) {\n",
    "    console.log(\"Second element before deletion:\", aList[1]);\n",
    "} else {\n",
    "    console.log(\"There is no second element.\");\n",
    "}\n",
    "\n",
    "// Delete the second element if it exists\n",
    "if (aList.length >= 2) {\n",
    "    aList.splice(1, 1); // Remove the element at index 1\n",
    "}\n",
    "\n",
    "// Display the updated list\n",
    "console.log(\"Updated list after deleting the second element:\", aList);"
   ]
  },
  {
   "cell_type": "markdown",
   "metadata": {},
   "source": [
    "## Popcorn Hack 3"
   ]
  },
  {
   "cell_type": "code",
   "execution_count": 4,
   "metadata": {},
   "outputs": [
    {
     "name": "stdout",
     "output_type": "stream",
     "text": [
      "Favorite Chinese foods: ['饺子 (Jiaozi)', '炒面 (Chao Mian)', '宫保鸡丁 (Gong Bao Ji Ding)', '麻婆豆腐 (Mapo Tofu)', '春卷 (Chun Juan)', '牛肉面 (Niu Rou Mian)', '糖醋排骨 (Tang Cu Pai Gu)']\n",
      "Total number of items in the list: 7\n"
     ]
    }
   ],
   "source": [
    "# Initialize a list of five favorite Chinese foods\n",
    "favorite_foods = [\"饺子 (Jiaozi)\", \"炒面 (Chao Mian)\", \"宫保鸡丁 (Gong Bao Ji Ding)\", \"麻婆豆腐 (Mapo Tofu)\", \"春卷 (Chun Juan)\"]\n",
    "\n",
    "# Add two more items to the list\n",
    "favorite_foods.append(\"牛肉面 (Niu Rou Mian)\")  # Beef Noodles\n",
    "favorite_foods.append(\"糖醋排骨 (Tang Cu Pai Gu)\")  # Sweet and Sour Ribs\n",
    "\n",
    "# Print the list to the console\n",
    "print(\"Favorite Chinese foods:\", favorite_foods)\n",
    "\n",
    "# Find and print the total number of items in the list\n",
    "total_items = len(favorite_foods)\n",
    "print(\"Total number of items in the list:\", total_items)"
   ]
  },
  {
   "cell_type": "markdown",
   "metadata": {},
   "source": [
    "## Popcorn hack 4"
   ]
  },
  {
   "cell_type": "code",
   "execution_count": 5,
   "metadata": {},
   "outputs": [
    {
     "name": "stdout",
     "output_type": "stream",
     "text": [
      "Sum of all even numbers: 30\n"
     ]
    }
   ],
   "source": [
    "# Define a list of integers\n",
    "nums = [1, 2, 3, 4, 5, 6, 7, 8, 9, 10]\n",
    "\n",
    "# Initialize a variable to hold the sum of even numbers\n",
    "sum_of_evens = 0\n",
    "\n",
    "# Iterate through the list to find even numbers and calculate their sum\n",
    "for num in nums:\n",
    "    if num % 2 == 0:  # Check if the number is even\n",
    "        sum_of_evens += num  # Add the even number to the sum\n",
    "\n",
    "# Print the sum of all even numbers\n",
    "print(\"Sum of all even numbers:\", sum_of_evens)"
   ]
  },
  {
   "cell_type": "markdown",
   "metadata": {},
   "source": [
    "## Popcorn hack 5"
   ]
  },
  {
   "cell_type": "code",
   "execution_count": 7,
   "metadata": {},
   "outputs": [
    {
     "name": "stdout",
     "output_type": "stream",
     "text": [
      "Banana is in the list.\n"
     ]
    }
   ],
   "source": [
    "# Define a list of fruits\n",
    "fruits = [\"apple\", \"orange\", \"banana\", \"grape\", \"kiwi\"]\n",
    "\n",
    "# Check if \"banana\" is in the list\n",
    "if \"banana\" in fruits:\n",
    "    print(\"Banana is in the list.\")\n",
    "else:\n",
    "    print(\"Banana is not in the list.\")"
   ]
  },
  {
   "cell_type": "markdown",
   "metadata": {},
   "source": [
    "## Homework Hack 1"
   ]
  },
  {
   "cell_type": "code",
   "execution_count": 10,
   "metadata": {},
   "outputs": [
    {
     "name": "stdout",
     "output_type": "stream",
     "text": [
      "The second element in the list is: 20\n"
     ]
    }
   ],
   "source": [
    "# Create a list of numbers\n",
    "numbers = [10, 20, 30, 40, 50]\n",
    "\n",
    "# Print the second element in the list\n",
    "print(\"The second element in the list is:\", numbers[1])"
   ]
  },
  {
   "cell_type": "markdown",
   "metadata": {},
   "source": [
    "## Homework hack 2"
   ]
  },
  {
   "cell_type": "code",
   "execution_count": 13,
   "metadata": {
    "vscode": {
     "languageId": "javascript"
    }
   },
   "outputs": [
    {
     "data": {
      "application/javascript": "// Create an array of numbers\nlet numbers = [10, 20, 30, 40, 50];\n\n// Log the second element to the console\nconsole.log(\"The second element in the array is:\", numbers[1]);\n",
      "text/plain": [
       "<IPython.core.display.Javascript object>"
      ]
     },
     "metadata": {},
     "output_type": "display_data"
    }
   ],
   "source": [
    "%%js\n",
    "// Create an array of numbers\n",
    "let numbers = [10, 20, 30, 40, 50];\n",
    "\n",
    "// Log the second element to the console\n",
    "console.log(\"The second element in the array is:\", numbers[1]);"
   ]
  },
  {
   "cell_type": "markdown",
   "metadata": {},
   "source": [
    "## Homework Hack 3 "
   ]
  },
  {
   "cell_type": "code",
   "execution_count": null,
   "metadata": {},
   "outputs": [],
   "source": [
    "# Initialize an empty to-do list\n",
    "todo_list = []\n",
    "\n",
    "def display_menu():\n",
    "    print(\"To-Do List Menu:\")\n",
    "    print(\"1. Apple\")\n",
    "    print(\"2. Beef\")\n",
    "    print(\"3. wine\")\n",
    "    print(\"4. Exit\")\n",
    "\n",
    "def add_item():\n",
    "    item = input(\"Enter the item to add: \")\n",
    "    todo_list.append(item)\n",
    "    print(f'Item \"{item}\" watermelon')\n",
    "\n",
    "def remove_item():\n",
    "    item = input(\"Enter the item to remove: \")\n",
    "    if item in todo_list:\n",
    "        todo_list.remove(item)\n",
    "        print(f'Item \"{item}\" removed from the list.')\n",
    "    else:\n",
    "        print(f'Item \"{item}\" not found in the list.')\n",
    "\n",
    "def view_list():\n",
    "    if todo_list:\n",
    "        print(\"\\nCurrent To-Do List:\")\n",
    "        for index, item in enumerate(todo_list, start=1):\n",
    "            print(f\"{index}. {item}\")\n",
    "    else:\n",
    "        print(\"Your to-do list is empty.\")\n",
    "\n",
    "def main():\n",
    "    while True:\n",
    "        display_menu()\n",
    "        choice = input(\"Choose an option (1-4): \")\n",
    "        \n",
    "        if choice == '1':\n",
    "            add_item()\n",
    "        elif choice == '2':\n",
    "            remove_item()\n",
    "        elif choice == '3':\n",
    "            view_list()\n",
    "        elif choice == '4':\n",
    "            print(\"Exiting the program.\")\n",
    "            break\n",
    "        else:\n",
    "            print(\"Invalid choice, please try again.\")\n",
    "\n",
    "if __name__ == \"__main__\":\n",
    "    main()"
   ]
  },
  {
   "cell_type": "markdown",
   "metadata": {},
   "source": [
    "## Homework hack 4"
   ]
  },
  {
   "cell_type": "code",
   "execution_count": 14,
   "metadata": {
    "vscode": {
     "languageId": "javascript"
    }
   },
   "outputs": [
    {
     "data": {
      "application/javascript": "const readline = require('readline');\n\nconst rl = readline.createInterface({\n    input: process.stdin,\n    output: process.stdout\n});\n\nlet workouts = [];\n\nfunction displayMenu() {\n    console.log(\"\\nWorkout Tracker Menu:\\n1. Log a workout\\n2. View workouts\\n3. Exit\");\n}\n\nfunction logWorkout() {\n    rl.question(\"Enter workout type: \", (type) => {\n        rl.question(\"Enter duration (mins): \", (duration) => {\n            rl.question(\"Enter calories burned: \", (calories) => {\n                workouts.push({ type, duration: parseInt(duration), calories: parseInt(calories) });\n                console.log(`Logged: ${type}, Duration: ${duration} mins, Calories: ${calories}`);\n                showMenu();\n            });\n        });\n    });\n}\n\nfunction viewWorkouts() {\n    if (workouts.length === 0) {\n        console.log(\"No workouts logged yet.\");\n    } else {\n        console.log(\"\\nLogged Workouts:\");\n        workouts.forEach((workout, index) => console.log(`${index + 1}. ${workout.type}, ${workout.duration} mins, ${workout.calories} calories`));\n    }\n    showMenu();\n}\n\nfunction showMenu() {\n    displayMenu();\n    rl.question(\"Choose an option (1-3): \", (choice) => {\n        if (choice === '1') logWorkout();\n        else if (choice === '2') viewWorkouts();\n        else if (choice === '3') rl.close();\n        else {\n            console.log(\"Invalid choice.\");\n            showMenu();\n        }\n    });\n}\n\nshowMenu();\n",
      "text/plain": [
       "<IPython.core.display.Javascript object>"
      ]
     },
     "metadata": {},
     "output_type": "display_data"
    }
   ],
   "source": [
    "%%js\n",
    "const readline = require('readline');\n",
    "\n",
    "const rl = readline.createInterface({\n",
    "    input: process.stdin,\n",
    "    output: process.stdout\n",
    "});\n",
    "\n",
    "let workouts = [];\n",
    "\n",
    "function displayMenu() {\n",
    "    console.log(\"\\nWorkout Tracker Menu:\\n1. Log a workout\\n2. View workouts\\n3. Exit\");\n",
    "}\n",
    "\n",
    "function logWorkout() {\n",
    "    rl.question(\"Enter workout type: \", (type) => {\n",
    "        rl.question(\"Enter duration (mins): \", (duration) => {\n",
    "            rl.question(\"Enter calories burned: \", (calories) => {\n",
    "                workouts.push({ type, duration: parseInt(duration), calories: parseInt(calories) });\n",
    "                console.log(`Logged: ${type}, Duration: ${duration} mins, Calories: ${calories}`);\n",
    "                showMenu();\n",
    "            });\n",
    "        });\n",
    "    });\n",
    "}\n",
    "\n",
    "function viewWorkouts() {\n",
    "    if (workouts.length === 0) {\n",
    "        console.log(\"No workouts logged yet.\");\n",
    "    } else {\n",
    "        console.log(\"\\nLogged Workouts:\");\n",
    "        workouts.forEach((workout, index) => console.log(`${index + 1}. ${workout.type}, ${workout.duration} mins, ${workout.calories} calories`));\n",
    "    }\n",
    "    showMenu();\n",
    "}\n",
    "\n",
    "function showMenu() {\n",
    "    displayMenu();\n",
    "    rl.question(\"Choose an option (1-3): \", (choice) => {\n",
    "        if (choice === '1') logWorkout();\n",
    "        else if (choice === '2') viewWorkouts();\n",
    "        else if (choice === '3') rl.close();\n",
    "        else {\n",
    "            console.log(\"Invalid choice.\");\n",
    "            showMenu();\n",
    "        }\n",
    "    });\n",
    "}\n",
    "\n",
    "showMenu();\n"
   ]
  }
 ],
 "metadata": {
  "kernelspec": {
   "display_name": "Python 3",
   "language": "python",
   "name": "python3"
  },
  "language_info": {
   "codemirror_mode": {
    "name": "ipython",
    "version": 3
   },
   "file_extension": ".py",
   "mimetype": "text/x-python",
   "name": "python",
   "nbconvert_exporter": "python",
   "pygments_lexer": "ipython3",
   "version": "3.12.3"
  }
 },
 "nbformat": 4,
 "nbformat_minor": 2
}
