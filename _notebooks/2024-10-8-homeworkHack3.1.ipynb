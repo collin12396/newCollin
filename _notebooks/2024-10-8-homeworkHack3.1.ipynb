{
 "cells": [
  {
   "cell_type": "raw",
   "metadata": {
    "vscode": {
     "languageId": "raw"
    }
   },
   "source": [
    "---\n",
    "toc: false\n",
    "comments: true\n",
    "layout: post\n",
    "description: popcorn and homework hack for 3.1\n",
    "permalink: /one/\n",
    "author: Collin\n",
    "---"
   ]
  },
  {
   "cell_type": "markdown",
   "metadata": {},
   "source": [
    "# Homework hack 1\n",
    "### requirements:\n",
    "- Define variables automatically using let and const, write console.log() statements and demonstrate knowledge of accessing the console correctly, and short function that correctly calls each variable and string them together to make a sentence."
   ]
  },
  {
   "cell_type": "code",
   "execution_count": 4,
   "metadata": {
    "vscode": {
     "languageId": "html"
    }
   },
   "outputs": [
    {
     "data": {
      "text/html": [
       "<script>\n",
       "    // Answer 1\n",
       "    let name = \"Collin\";\n",
       "    let age = 16;\n",
       "    const hobby = \"cooking\";\n",
       "\n",
       "    console.log(name);  \n",
       "    console.log(age);   \n",
       "    console.log(hobby); \n",
       "\n",
       "    function createSentence() {\n",
       "      return `${name} is ${age} years old and loves ${hobby}.`;\n",
       "    }\n",
       "\n",
       "    console.log(createSentence()); \n",
       "</script>\n"
      ],
      "text/plain": [
       "<IPython.core.display.HTML object>"
      ]
     },
     "metadata": {},
     "output_type": "display_data"
    }
   ],
   "source": [
    "%%html\n",
    "<script>\n",
    "    // Answer 1\n",
    "    let name = \"Collin\";\n",
    "    let age = 16;\n",
    "    const hobby = \"cooking\";\n",
    "\n",
    "    console.log(name);  \n",
    "    console.log(age);   \n",
    "    console.log(hobby); \n",
    "\n",
    "    function createSentence() {\n",
    "      return `${name} is ${age} years old and loves ${hobby}.`;\n",
    "    }\n",
    "\n",
    "    console.log(createSentence()); \n",
    "</script>"
   ]
  },
  {
   "cell_type": "markdown",
   "metadata": {},
   "source": [
    "# Homework hack 2\n",
    "### requirements:\n",
    "- Create an average grade calculator using integers and addition. Input scores as variables, add them together, and average them out. Using that data create an array of student info (ex: name/age) and average grade."
   ]
  },
  {
   "cell_type": "code",
   "execution_count": 6,
   "metadata": {
    "vscode": {
     "languageId": "html"
    }
   },
   "outputs": [
    {
     "data": {
      "text/html": [
       "  <script>\n",
       "    let mathScore = 88;\n",
       "    let scienceScore = 95;\n",
       "    let ChineseScore = 94;\n",
       "    let worldScore = 90;\n",
       "\n",
       "    // Calculate the total and average\n",
       "    let total = mathScore + scienceScore + ChineseScore + worldScore;\n",
       "    let avgGrade = total / 4;\n",
       "\n",
       "    let studentDetails = [\"Collin\", 16, avgGrade];\n",
       "\n",
       "    // Output to console\n",
       "    console.log(\"Student Details (Answer 2):\", studentDetails); \n",
       "    console.log(\"Average Grade (Answer 2):\", avgGrade); \n",
       "  </script>\n"
      ],
      "text/plain": [
       "<IPython.core.display.HTML object>"
      ]
     },
     "metadata": {},
     "output_type": "display_data"
    }
   ],
   "source": [
    "%%html\n",
    "  <script>\n",
    "    let mathScore = 88;\n",
    "    let scienceScore = 95;\n",
    "    let ChineseScore = 94;\n",
    "    let worldScore = 90;\n",
    "\n",
    "    // Calculate the total and average\n",
    "    let total = mathScore + scienceScore + ChineseScore + worldScore;\n",
    "    let avgGrade = total / 4;\n",
    "\n",
    "    let studentDetails = [\"Collin\", 16, avgGrade];\n",
    "\n",
    "    // Output to console\n",
    "    console.log(\"Student Details (Answer 2):\", studentDetails); \n",
    "    console.log(\"Average Grade (Answer 2):\", avgGrade); \n",
    "  </script>"
   ]
  },
  {
   "cell_type": "markdown",
   "metadata": {},
   "source": [
    "# Popcorn hack 1\n",
    "### requirements:\n",
    "- Make your own variables for members of your team, but follow naming convention for Python"
   ]
  },
  {
   "cell_type": "code",
   "execution_count": 7,
   "metadata": {},
   "outputs": [
    {
     "name": "stdout",
     "output_type": "stream",
     "text": [
      "Team Members:\n",
      "Aarush\n",
      "Collin\n",
      "Thomas\n",
      "Ian\n"
     ]
    }
   ],
   "source": [
    "aarush = \"Aarush\"\n",
    "collin = \"Collin\"\n",
    "thomas = \"Thomas\"\n",
    "ian = \"Ian\"\n",
    "\n",
    "print(\"Team Members:\")\n",
    "print(aarush)\n",
    "print(collin)\n",
    "print(thomas)\n",
    "print(ian)"
   ]
  },
  {
   "cell_type": "markdown",
   "metadata": {},
   "source": [
    "# Popcorn hack 2\n",
    "### requirements:\n",
    "- Make a dictionary about fruit."
   ]
  },
  {
   "cell_type": "code",
   "execution_count": 8,
   "metadata": {},
   "outputs": [
    {
     "name": "stdout",
     "output_type": "stream",
     "text": [
      "\n",
      "Mango:\n",
      "  Color: yellow\n",
      "  Taste: sweet\n",
      "\n",
      "Blueberry:\n",
      "  Color: blue\n",
      "  Taste: tangy\n",
      "\n",
      "Strawberry:\n",
      "  Color: red\n",
      "  Taste: sweet\n",
      "\n",
      "Pineapple:\n",
      "  Color: brown and yellow\n",
      "  Taste: tangy\n",
      "\n",
      "Peach:\n",
      "  Color: orange\n",
      "  Taste: sweet\n"
     ]
    }
   ],
   "source": [
    "fruits = {\n",
    "    \"mango\": {\"color\": \"yellow\", \"taste\": \"sweet\"},\n",
    "    \"blueberry\": {\"color\": \"blue\", \"taste\": \"tangy\"},\n",
    "    \"strawberry\": {\"color\": \"red\", \"taste\": \"sweet\"},\n",
    "    \"pineapple\": {\"color\": \"brown and yellow\", \"taste\": \"tangy\"},\n",
    "    \"peach\": {\"color\": \"orange\", \"taste\": \"sweet\"}\n",
    "}\n",
    "\n",
    "for fruit, details in fruits.items():\n",
    "    print(f\"\\n{fruit.capitalize()}:\")\n",
    "    for key, value in details.items():\n",
    "        print(f\"  {key.capitalize()}: {value}\")"
   ]
  },
  {
   "cell_type": "markdown",
   "metadata": {},
   "source": [
    "# Popcorn hack 3\n",
    "### requirements:\n",
    "- Create your own array using two or more different data types we throughout the lesson!"
   ]
  },
  {
   "cell_type": "code",
   "execution_count": 9,
   "metadata": {},
   "outputs": [
    {
     "name": "stdout",
     "output_type": "stream",
     "text": [
      "Contents of the mixed array:\n",
      "True\n",
      "100\n",
      "Python\n",
      "5.67\n",
      "None\n",
      "{'name': 'Alice', 'age': 25}\n",
      "[1, 2, 3]\n",
      "\n",
      "Accessing individual elements:\n",
      "Boolean: True\n",
      "Integer: 100\n",
      "String: Python\n",
      "Float: 5.67\n",
      "NoneType: None\n",
      "Dictionary: {'name': 'Alice', 'age': 25}\n",
      "List (nested): [1, 2, 3]\n"
     ]
    }
   ],
   "source": [
    "mixed_array = [True, 100, \"Python\", 5.67, None, {\"name\": \"Collin\", \"age\": 16}, [11, 45, 14]]\n",
    "\n",
    "print(\"Contents of the mixed array:\")\n",
    "for element in mixed_array:\n",
    "    print(element)\n",
    "\n",
    "# Accessing individual data types\n",
    "print(\"\\nAccessing individual elements:\")\n",
    "print(f\"Boolean: {mixed_array[0]}\")\n",
    "print(f\"Integer: {mixed_array[1]}\")\n",
    "print(f\"String: {mixed_array[2]}\")\n",
    "print(f\"Float: {mixed_array[3]}\")\n",
    "print(f\"NoneType: {mixed_array[4]}\")\n",
    "print(f\"Dictionary: {mixed_array[5]}\")\n",
    "print(f\"List (nested): {mixed_array[6]}\")"
   ]
  }
 ],
 "metadata": {
  "kernelspec": {
   "display_name": "Python 3",
   "language": "python",
   "name": "python3"
  },
  "language_info": {
   "codemirror_mode": {
    "name": "ipython",
    "version": 3
   },
   "file_extension": ".py",
   "mimetype": "text/x-python",
   "name": "python",
   "nbconvert_exporter": "python",
   "pygments_lexer": "ipython3",
   "version": "3.12.3"
  }
 },
 "nbformat": 4,
 "nbformat_minor": 2
}
