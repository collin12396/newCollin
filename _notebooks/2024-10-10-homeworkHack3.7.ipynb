{
 "cells": [
  {
   "cell_type": "raw",
   "metadata": {
    "vscode": {
     "languageId": "raw"
    }
   },
   "source": [
    "---\n",
    "toc: false\n",
    "comments: true\n",
    "layout: post\n",
    "description: popcorn and homework hack for 3.7\n",
    "permalink: /seven/\n",
    "author: Collin\n",
    "---"
   ]
  },
  {
   "cell_type": "markdown",
   "metadata": {},
   "source": [
    "# Hacks for 3.7"
   ]
  },
  {
   "cell_type": "markdown",
   "metadata": {},
   "source": [
    "## Popcorn hack 1"
   ]
  },
  {
   "cell_type": "code",
   "execution_count": 1,
   "metadata": {},
   "outputs": [
    {
     "name": "stdout",
     "output_type": "stream",
     "text": [
      "The weather is sunny\n",
      "Your transportation is available\n",
      "Your boots are not present\n",
      "Location determined: yes\n",
      "Miles in the hike: 5\n",
      "You need to find your boots first.\n"
     ]
    }
   ],
   "source": [
    "weather = \"sunny\"\n",
    "transportation = \"available\"\n",
    "boots = \"not present\"\n",
    "location_determined = \"yes\" # add did you determine the location\n",
    "miles_in_the_hike = 5  # miles\n",
    "\n",
    "print(\"The weather is \" + weather)\n",
    "print(\"Your transportation is \" + transportation)\n",
    "print(\"Your boots are \" + boots)\n",
    "print(\"Location determined: \" + location_determined)# create the if, else statement here.\n",
    "print(\"Miles in the hike: \" + str(miles_in_the_hike))\n",
    "\n",
    "if weather == \"sunny\": # for these part, if the original condition not satistfied, then the else statement will print. which tells that the requirement does not met.\n",
    "    if transportation == \"available\":\n",
    "        if boots == \"present\":\n",
    "            if location_determined == \"yes\":\n",
    "                if miles_in_the_hike <= 10:\n",
    "                    print(\"You are ready to go hiking!\")\n",
    "                else:\n",
    "                    print(\"The hike is too far. Consider a shorter distance.\")\n",
    "            else:\n",
    "                print(\"You need to determine the location first.\")\n",
    "        else:\n",
    "            print(\"You need to find your boots first.\")\n",
    "    else:\n",
    "        print(\"You need to arrange transportation.\")\n",
    "else:\n",
    "    print(\"It's not good weather for hiking.\")"
   ]
  },
  {
   "cell_type": "markdown",
   "metadata": {},
   "source": [
    "## Popcorn hack 2"
   ]
  },
  {
   "cell_type": "code",
   "execution_count": 3,
   "metadata": {
    "vscode": {
     "languageId": "javascript"
    }
   },
   "outputs": [
    {
     "data": {
      "application/javascript": "let weather = \"sunny\";\nlet transportation = \"available\";\nlet boots = \"not present\";\nlet locationDetermined = \"yes\";\nlet milesInTheHike = 5;  // miles\n\nconsole.log(\"The weather is \" + weather);\nconsole.log(\"Your transportation is \" + transportation);\nconsole.log(\"Your boots are \" + boots);\nconsole.log(\"Location determined: \" + locationDetermined);\nconsole.log(\"Miles in the hike: \" + milesInTheHike);\n\nif (weather === \"sunny\") {\n    if (transportation === \"available\") {\n        if (boots === \"present\") {\n            if (locationDetermined === \"yes\") {\n                if (milesInTheHike <= 10) {\n                    console.log(\"You are ready to go hiking!\");\n                } else {\n                    console.log(\"The hike is too far. Consider a shorter distance.\");\n                }\n            } else {\n                console.log(\"You need to determine the location first.\");\n            }\n        } else {\n            console.log(\"You need to find your boots first.\");\n        }\n    } else {\n        console.log(\"You need to arrange transportation.\");\n    }\n} else {\n    console.log(\"It's not good weather for hiking.\");\n}\n",
      "text/plain": [
       "<IPython.core.display.Javascript object>"
      ]
     },
     "metadata": {},
     "output_type": "display_data"
    }
   ],
   "source": [
    "%%js\n",
    "let weather = \"sunny\";\n",
    "let transportation = \"available\";\n",
    "let boots = \"not present\";\n",
    "let locationDetermined = \"yes\";\n",
    "let milesInTheHike = 5;  // miles\n",
    "\n",
    "console.log(\"The weather is \" + weather);\n",
    "console.log(\"Your transportation is \" + transportation);\n",
    "console.log(\"Your boots are \" + boots);\n",
    "console.log(\"Location determined: \" + locationDetermined);\n",
    "console.log(\"Miles in the hike: \" + milesInTheHike);\n",
    "\n",
    "if (weather === \"sunny\") {\n",
    "    if (transportation === \"available\") {\n",
    "        if (boots === \"present\") {\n",
    "            if (locationDetermined === \"yes\") {\n",
    "                if (milesInTheHike <= 10) {\n",
    "                    console.log(\"You are ready to go hiking!\");\n",
    "                } else {\n",
    "                    console.log(\"The hike is too far. Consider a shorter distance.\");\n",
    "                }\n",
    "            } else {\n",
    "                console.log(\"You need to determine the location first.\");\n",
    "            }\n",
    "        } else {\n",
    "            console.log(\"You need to find your boots first.\");\n",
    "        }\n",
    "    } else {\n",
    "        console.log(\"You need to arrange transportation.\");\n",
    "    }\n",
    "} else {\n",
    "    console.log(\"It's not good weather for hiking.\");\n",
    "}"
   ]
  },
  {
   "cell_type": "markdown",
   "metadata": {},
   "source": [
    "## Homework hack 1 (python)"
   ]
  },
  {
   "cell_type": "code",
   "execution_count": 4,
   "metadata": {},
   "outputs": [
    {
     "name": "stdout",
     "output_type": "stream",
     "text": [
      "You are ready for the beach!\n"
     ]
    }
   ],
   "source": [
    "weather = \"sunny\" # line 1-3 define the condition of the day\n",
    "sunscreen = \"yes\"  \n",
    "snacks = \"enough\"  \n",
    "\n",
    "# then the code will check if the input match the condition thats suitable for going to beach. If not, else statement will show and print to tell the viewer it is not a day to go to beach.\n",
    "if weather == \"sunny\":\n",
    "    if sunscreen == \"yes\":\n",
    "        if snacks == \"enough\":\n",
    "            print(\"You are ready for the beach!\")\n",
    "        else:\n",
    "            print(\"You need to get snacks first.\")\n",
    "    else:\n",
    "        print(\"You need to buy sunscreen.\")\n",
    "else:\n",
    "    print(\"It's not a good day for the beach.\")"
   ]
  },
  {
   "cell_type": "markdown",
   "metadata": {},
   "source": [
    "## Homework hack 2 (python)"
   ]
  },
  {
   "cell_type": "code",
   "execution_count": 5,
   "metadata": {},
   "outputs": [
    {
     "name": "stdout",
     "output_type": "stream",
     "text": [
      "You can adopt the pet!\n"
     ]
    }
   ],
   "source": [
    "age = 20  # The user's age. indicate the input value to check for the code.\n",
    "space = 60  # The amount of space in square feet\n",
    "available = True  # Whether you are available to take care of the pet (True/False)\n",
    "\n",
    "# the code of condition will check to see if the input satisfied the requirement. Then either if statement or the else statement will show. \n",
    "if age >= 18:\n",
    "    if space > 50:\n",
    "        if available:\n",
    "            print(\"You can adopt the pet.\")\n",
    "        else:\n",
    "            print(\"You need to make time to take care of the pet.\")\n",
    "    else:\n",
    "        print(\"You need a bigger home.\")\n",
    "else:\n",
    "    print(\"You must be at least 18 to adopt a pet.\")"
   ]
  },
  {
   "cell_type": "markdown",
   "metadata": {},
   "source": [
    "## Homework hack 3 (python)"
   ]
  },
  {
   "cell_type": "code",
   "execution_count": 7,
   "metadata": {},
   "outputs": [
    {
     "name": "stdout",
     "output_type": "stream",
     "text": [
      "You are ready for the marathon!\n"
     ]
    }
   ],
   "source": [
    "weather = \"clear\"  # The weather condition\n",
    "running_shoes = True  # Whether you have running shoes (True/False)\n",
    "practiced_days = 14  # Number of days you've practiced\n",
    "\n",
    "# the input will be checked by the code. The code will reply either satisfied or not satisfied. It give different statement for either ready or not ready.\n",
    "if weather == \"clear\":\n",
    "    if running_shoes:\n",
    "        if practiced_days >= 10:\n",
    "            print(\"You are ready for the marathon!\")\n",
    "        else:\n",
    "            print(\"You need to practice more.\")\n",
    "    else:\n",
    "        print(\"You need to buy shoes first.\")\n",
    "else:\n",
    "    print(\"It's not the right time for the marathon.\")"
   ]
  },
  {
   "cell_type": "markdown",
   "metadata": {},
   "source": [
    "## Homework hack 1 (Javascript)"
   ]
  },
  {
   "cell_type": "code",
   "execution_count": 8,
   "metadata": {
    "vscode": {
     "languageId": "javascript"
    }
   },
   "outputs": [
    {
     "data": {
      "application/javascript": "let studyMaterials = \"available\";  // or \"not available\"\nlet quietPlace = \"yes\";  // or \"no\"\nlet feelingTired = \"no\";  // or \"yes\"\n\nif (studyMaterials === \"available\") {\n    if (quietPlace === \"yes\") {\n        if (feelingTired === \"no\") {\n            console.log(\"You are ready to study!\");\n        } else {\n            console.log(\"You should take a nap or rest first.\");\n        }\n    } else {\n        console.log(\"You need to find a quiet place to study.\");\n    }\n} else {\n    console.log(\"You need to gather your study materials first.\");\n}\n",
      "text/plain": [
       "<IPython.core.display.Javascript object>"
      ]
     },
     "metadata": {},
     "output_type": "display_data"
    }
   ],
   "source": [
    "%%js\n",
    "let studyMaterials = \"available\";  // or \"not available\"\n",
    "let quietPlace = \"yes\";  // or \"no\"\n",
    "let feelingTired = \"no\";  // or \"yes\"\n",
    "\n",
    "// using the if else statement in javascript to test the input value. act similar with python, the code check either they match or not match and give different result base on the input.\n",
    "if (studyMaterials === \"available\") {\n",
    "    if (quietPlace === \"yes\") {\n",
    "        if (feelingTired === \"no\") {\n",
    "            console.log(\"You are ready to study!\");\n",
    "        } else {\n",
    "            console.log(\"You should take a nap or rest first.\");\n",
    "        }\n",
    "    } else {\n",
    "        console.log(\"You need to find a quiet place to study.\");\n",
    "    }\n",
    "} else {\n",
    "    console.log(\"You need to gather your study materials first.\");\n",
    "}"
   ]
  },
  {
   "cell_type": "markdown",
   "metadata": {},
   "source": [
    "## Homework hack 2 (Javascript)"
   ]
  },
  {
   "cell_type": "code",
   "execution_count": 10,
   "metadata": {
    "vscode": {
     "languageId": "javascript"
    }
   },
   "outputs": [
    {
     "data": {
      "application/javascript": "let ingredients = [\"flour\", \"eggs\", \"sugar\"];\nlet ovenWorking = true;\nlet availableTime = 2;  // Time available in hours\n\n// to check if the input match either the satisfied or not satisfied result. \nif (ingredients.includes(\"flour\") && ingredients.includes(\"eggs\") && ingredients.includes(\"sugar\")) {\n    if (ovenWorking) {\n        if (availableTime >= 2) {\n            console.log(\"You can start baking the cake!\");\n        } else {\n            console.log(\"You need to find more time.\");\n        }\n    } else {\n        console.log(\"You need to fix or replace the oven.\");\n    }\n} else {\n    let missingIngredients = [];\n    if (!ingredients.includes(\"flour\")) {\n        missingIngredients.push(\"flour\");\n    }\n    if (!ingredients.includes(\"eggs\")) {\n        missingIngredients.push(\"eggs\");\n    }\n    if (!ingredients.includes(\"sugar\")) {\n        missingIngredients.push(\"sugar\");\n    }\n    console.log(\"You are missing the following ingredients: \" + missingIngredients.join(\", \") + \".\");\n}\n// if the input is fine and have everything, then the code tells that it is ready for you. Otherwise you are not ready.\n",
      "text/plain": [
       "<IPython.core.display.Javascript object>"
      ]
     },
     "metadata": {},
     "output_type": "display_data"
    }
   ],
   "source": [
    "%%js // to define the ingredient, time, and other input variable.\n",
    "let ingredients = [\"flour\", \"eggs\", \"sugar\"];\n",
    "let ovenWorking = true;\n",
    "let availableTime = 2;  // Time available in hours\n",
    "\n",
    "// to check if the input match either the satisfied or not satisfied result. \n",
    "if (ingredients.includes(\"flour\") && ingredients.includes(\"eggs\") && ingredients.includes(\"sugar\")) {\n",
    "    if (ovenWorking) {\n",
    "        if (availableTime >= 2) {\n",
    "            console.log(\"You can start baking the cake!\");\n",
    "        } else {\n",
    "            console.log(\"You need to find more time.\");\n",
    "        }\n",
    "    } else {\n",
    "        console.log(\"You need to fix or replace the oven.\");\n",
    "    }\n",
    "} else {\n",
    "    let missingIngredients = [];\n",
    "    if (!ingredients.includes(\"flour\")) {\n",
    "        missingIngredients.push(\"flour\");\n",
    "    }\n",
    "    if (!ingredients.includes(\"eggs\")) {\n",
    "        missingIngredients.push(\"eggs\");\n",
    "    }\n",
    "    if (!ingredients.includes(\"sugar\")) {\n",
    "        missingIngredients.push(\"sugar\");\n",
    "    }\n",
    "    console.log(\"You are missing the following ingredients: \" + missingIngredients.join(\", \") + \".\");\n",
    "}\n",
    "// if the input is fine and have everything, then the code tells that it is ready for you. Otherwise you are not ready."
   ]
  },
  {
   "cell_type": "markdown",
   "metadata": {},
   "source": [
    "## Homework hack 3 (javascript)"
   ]
  },
  {
   "cell_type": "code",
   "execution_count": 11,
   "metadata": {
    "vscode": {
     "languageId": "javascript"
    }
   },
   "outputs": [
    {
     "data": {
      "application/javascript": "let weather = \"clear\";  // The current weather\nlet haveTent = true;  // Whether you have a tent (true or false)\nlet enoughFoodAndWater = true;  // Whether you have enough food and water (true or false)\n\n// Once again, the code below is the code that check if the input match the condition or not. It give different output for either satsified or not.\nif (weather === \"clear\") {\n    if (haveTent) {\n        if (enoughFoodAndWater) {\n            console.log(\"You are ready to go camping!\");\n        } else {\n            console.log(\"You need to pack more food and water.\");\n        }\n    } else {\n        console.log(\"You need to buy or borrow a tent.\");\n    }\n} else {\n    console.log(\"It's not a good time for camping.\");\n}\n",
      "text/plain": [
       "<IPython.core.display.Javascript object>"
      ]
     },
     "metadata": {},
     "output_type": "display_data"
    }
   ],
   "source": [
    "%%js\n",
    "let weather = \"clear\";  // The current weather\n",
    "let haveTent = true;  // Whether you have a tent (true or false)\n",
    "let enoughFoodAndWater = true;  // Whether you have enough food and water (true or false)\n",
    "\n",
    "// Once again, the code below is the code that check if the input match the condition or not. It give different output for either satsified or not.\n",
    "if (weather === \"clear\") {\n",
    "    if (haveTent) {\n",
    "        if (enoughFoodAndWater) {\n",
    "            console.log(\"You are ready to go camping!\");\n",
    "        } else {\n",
    "            console.log(\"You need to pack more food and water.\");\n",
    "        }\n",
    "    } else {\n",
    "        console.log(\"You need to buy or borrow a tent.\");\n",
    "    }\n",
    "} else {\n",
    "    console.log(\"It's not a good time for camping.\");\n",
    "}\n"
   ]
  }
 ],
 "metadata": {
  "kernelspec": {
   "display_name": "Python 3",
   "language": "python",
   "name": "python3"
  },
  "language_info": {
   "codemirror_mode": {
    "name": "ipython",
    "version": 3
   },
   "file_extension": ".py",
   "mimetype": "text/x-python",
   "name": "python",
   "nbconvert_exporter": "python",
   "pygments_lexer": "ipython3",
   "version": "3.12.3"
  }
 },
 "nbformat": 4,
 "nbformat_minor": 2
}
