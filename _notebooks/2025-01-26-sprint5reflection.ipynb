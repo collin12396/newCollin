{
 "cells": [
  {
   "cell_type": "raw",
   "metadata": {
    "vscode": {
     "languageId": "raw"
    }
   },
   "source": [
    "---\n",
    "layout: post\n",
    "title: Sprint 5 reflection\n",
    "description:  Reflecting what I did in sprint 5 and what I learned\n",
    "type: issues \n",
    "comments: true\n",
    "---"
   ]
  },
  {
   "cell_type": "markdown",
   "metadata": {},
   "source": [
    "## About this project and its purpose\n",
    "For this project, our group has built a collaborative website centered around travel. Each team member contributes a unique feature, working together to create a fully integrated platform where users can explore, share, and interact with travel-related content. These features are connected through both frontend and backend development, providing a seamless experience for visitors. The ultimate goal is to help users find the ideal travel destination by offering a dynamic, interactive, and informative website.\n",
    "\n",
    "## Purpose of my feature:\n",
    "My contribution to the project is the Comment Model. This feature enables users to leave comments on the website, allowing them to share their thoughts, experiences, and recommendations with others. The comment system fosters communication among users, encouraging discussions about travel topics. Importantly, all comments are stored in a database, ensuring that they are persistent across sessions. When users return to the website, they can see previous comments, creating an ongoing conversation. This feature enhances user engagement and provides valuable insights for both visitors and content creators."
   ]
  },
  {
   "cell_type": "markdown",
   "metadata": {},
   "source": [
    "## What I've learned\n",
    "\n",
    "### Using Backend API to Save Comments:\n",
    "- I learned how to create backend APIs for handling user comments, including routes for posting and retrieving data securely.\n",
    "\n",
    "### Creating a Database Table:\n",
    "- I gained experience designing a database table to store and organize comments, making it easy to retrieve and display data on the frontend.\n",
    "\n",
    "### Running Files Together:\n",
    "- I learned how to configure and run multiple project files, ensuring smooth communication between the backend, database, and frontend.\n",
    "\n",
    "### Handling Static and Fluid Data:\n",
    "- I developed skills in managing both predefined static data and dynamic user-generated content for better backend performance."
   ]
  },
  {
   "cell_type": "markdown",
   "metadata": {},
   "source": [
    "## Challenges I Faced, Mistakes Made, and Improvements\n",
    "\n",
    "**Initial Approach Without Proper Methods:**\n",
    "I focused on getting the feature functional without using the proper backend approach, such as relying on JavaScript instead of the provided Python code.\n",
    "\n",
    "**How I Fixed It:** I explored resource files, like user.py, to find useful code examples and applied them correctly.\n",
    "\n",
    "**Understanding Complex Code Structures:**\n",
    "I struggled to comprehend how certain parts of the code functioned and fit together.\n",
    "\n",
    "**Improvement:** I reviewed resource files to learn which code blocks correspond to specific situations and used external tools like Copilot to refine and debug my code.\n",
    "\n",
    "**Code Execution Issues Due to Missing Settings:**\n",
    "My code often failed due to missing key configurations.\n",
    "\n",
    "**How I Fixed It:** I checked if I was in the correct environment or the right branch before running the code, ensuring all settings were correctly applied."
   ]
  },
  {
   "cell_type": "markdown",
   "metadata": {},
   "source": [
    "## Frontend work\n",
    "\n",
    "- I first created an outline for the entire backend, so me and my member can start to develop their structure in the frontend website.\n",
    "- I created a basic comment model that allow users to comment, but did not link to the backend so it won't save. \n",
    "\n",
    "The purpose of this work is to set up the skeleton function for later backend development."
   ]
  },
  {
   "cell_type": "markdown",
   "metadata": {
    "vscode": {
     "languageId": "html"
    }
   },
   "source": [
    "![Frontend Image](https://github.com/collin12396/newCollinCSP_2025/blob/main/images/frontend.png?raw=true)"
   ]
  },
  {
   "cell_type": "markdown",
   "metadata": {},
   "source": [
    "## Backend work\n",
    "\n",
    "API Creation:\n",
    "- Built an API to connect the frontend and backend for saving comments.\n",
    "- Learned how to handle HTTP requests (POST and GET) and ensure data persists even after the server is restarted.\n",
    "\n",
    "Database Setup:\n",
    "- Created a database to store both static (e.g., user data) and dynamic (e.g., comments) data.\n",
    "- Used classes in Python to organize and structure the comment data.\n",
    "- Displayed the data in a table format for easy visualization.\n",
    "\n",
    "Backup and Restore:\n",
    "- Implemented a backup system to save database copies.\n",
    "- Currently learning how to restore data from backups, troubleshooting errors along the way."
   ]
  },
  {
   "cell_type": "markdown",
   "metadata": {},
   "source": [
    "#### Database table\n",
    "![Frontend Image](https://github.com/collin12396/newCollinCSP_2025/blob/main/images/table.png?raw=true)\n",
    "This is the database table created so it can store information and display next time when running the server even though the server is closed.\n",
    "\n",
    "#### Model \n",
    "![image.png](https://github.com/collin12396/newCollinCSP_2025/blob/main/images/Model.png?raw=true)\n",
    " - This code defines the Comment class in the model, which creates the database table to store comment data. The Comment class includes an id as the primary key and a comment field for text storage. The create method handles saving a new comment to the database using SQLAlchemy, with error handling for duplicate or invalid data using IntegrityError. The initComments() function initializes the database by inserting example comments (\"I like to travel around the world\" and \"I usually travel in Asian countries\"). This setup allows comment data to persist even if the server stops, ensuring all comments are accessible when the server restarts.  \n",
    "\n",
    "\n",
    "#### Backend API \n",
    "![image.png](https://github.com/collin12396/newCollinCSP_2025/blob/main/images/Api.png?raw=true)\n",
    "- This is my backend api that communicate with the frontend that allows to comment and save in the backend. This code enables the backend for the comment function by defining two key operations using Flask. The post method in _CRUD allows users to submit new comments, which are validated to ensure they are not empty before being stored in the database. The get method in _BULK_CRUD retrieves all existing comments from the database and returns them as a JSON list. These functionalities are accessible through the /api/comment endpoint, making it possible for the frontend to interact with the backend to save and display comments dynamically.\n"
   ]
  },
  {
   "cell_type": "markdown",
   "metadata": {},
   "source": [
    "## List Requests: Use of List, Dictionaries, and Database\n",
    "- Formatting Response Data (JSON) from API into DOM:\n",
    "- The backend sends a list of comments in JSON format using return jsonify(comments_array).\n",
    "- On the frontend, this JSON data is fetched and rendered in the DOM with a loop to dynamically create list elements and display each comment.\n",
    "- This can be find as example when I used return jsonify in my api file.\n",
    "\n",
    "## Queries from Database: Extracting Python List (Rows):\n",
    "- SQLAlchemy, a third-party library is used to fetch data from the database.\n",
    "- Comment.query.all() retrieves all comment rows, and a Python list is created by appending each comment.\n",
    "- This abstraction by SQLAlchemy simplifies complex SQL operations.\n",
    "\n",
    "## Methods in \"Class\" to Work with Columns (Create, Read, Update, Delete):\n",
    "- Create: Adds new comments with db.session.add(self) followed by db.session.commit().\n",
    "- Read: Retrieves all comments by iterating over Comment.query.all().\n",
    "- Update/Delete: Not implemented in the current code but could be structured similarly using SQLAlchemy commands for updating or deleting rows. "
   ]
  },
  {
   "cell_type": "markdown",
   "metadata": {},
   "source": [
    "## Algorithm Design: Handling Comments\n",
    "\n",
    "### Key Methods for Handling Comments\n",
    "\n",
    "- **API Endpoint**:\n",
    "  - Created an API endpoint to receive and store comments from the frontend. The API uses POST requests to save comments to the database and GET requests to retrieve them.\n",
    "  - GET: Retrieves all comments from the database and returns them as a JSON array.\n",
    "  - POST: Adds a new comment to the database.\n",
    "  - PUT: Updates an existing comment in the database.\n",
    "  - DELETE: Deletes a comment from the database by ID.\n",
    "- **Discuss a Method/Procedure in the Class that Contains Sequencing, Selection, and Iteration:**\n",
    "  - Sequencing: Initializing the empty list comments_array and appending comments one by one.\n",
    "  - Selection: Iterating over all comments returned from the database (Comment.query.all()).\n",
    "  - Iteration: Using the for loop to go through each comment and add it to the list.\n",
    "- **Discuss the Parameters (Body of Request) and Return Type (JSONIFY) of the Function:**\n",
    "  - Parameters: comment_data is extracted from the request body using request.get_json(), which converts the JSON body into a Python dictionary.\n",
    "  - Return Type: jsonify() is used to return a JSON response, in this case, confirming the success of the POST request ({'message': 'Comment added successfully'}).\n",
    "- **Data Validation**:\n",
    "  - Ensured that only valid comment data is stored by checking for empty or invalid input before saving it to the database.\n"
   ]
  },
  {
   "cell_type": "markdown",
   "metadata": {},
   "source": [
    "## Call/Request to the Method with Algorithm (Fetch to Endpoint):\n",
    "- The frontend sends a POST request with fetch(API_URL, { method: 'POST', body: JSON.stringify({ \"comment\": comment }) }), which triggers the backend’s post() method.\n",
    "\n",
    "## Return/Response from the Method with Algorithm (Fetch) and How You Handle Data:\n",
    "- The backend sends back a JSON response with jsonify(comments_array), and the frontend processes it with comments.push(...data) to render the updated list.\n",
    "\n",
    "## How Changing Data or Method Triggers a Different Response (Normal Conditions and Error Conditions):\n",
    "- On successful insertion, the backend returns a 200 status; if there’s an error (e.g., empty comment), the backend responds with an error message like {'message': 'Empty comment was provided'}."
   ]
  },
  {
   "cell_type": "markdown",
   "metadata": {},
   "source": [
    "### Database Usage\n",
    "\n",
    "- **Data Structure**:\n",
    "  - The data is structured using a **Comment class** with an `id` and `comment` field in an SQLite database. The comments are stored in a table called `'comments'`.\n",
    "  - Each comment is represented by an object, and multiple comment objects are stored in a list (`comments`).\n",
    "\n",
    "- **Queries to Retrieve and Format Data**:\n",
    "  - The `create()` method adds a comment to the database, commits the transaction, and returns the comment object. If there is an integrity error (e.g., duplicate data), it rolls back the transaction.\n",
    "  - Example query to add comments:\n",
    "    ```python\n",
    "    db.session.add(self)  # Prepares the comment for saving\n",
    "    db.session.commit()  # Commits the changes to the database\n",
    "    ```\n",
    "\n",
    "- **Data Backup and Recovery**:\n",
    "  - The database is backed up by saving the current state of the comments to the database. In case of errors (like duplicate or bad data), the transaction is rolled back and the session is removed to ensure the integrity of the data."
   ]
  },
  {
   "cell_type": "markdown",
   "metadata": {},
   "source": [
    "###"
   ]
  }
 ],
 "metadata": {
  "language_info": {
   "name": "python"
  }
 },
 "nbformat": 4,
 "nbformat_minor": 2
}
