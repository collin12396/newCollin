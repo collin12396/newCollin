{
 "cells": [
  {
   "cell_type": "raw",
   "metadata": {
    "vscode": {
     "languageId": "raw"
    }
   },
   "source": [
    "---\n",
    "layout: post\n",
    "title: Sprint 5 reflection\n",
    "description:  Reflecting what I did in sprint 5 and what I learned\n",
    "type: issues \n",
    "comments: true\n",
    "---"
   ]
  },
  {
   "cell_type": "markdown",
   "metadata": {},
   "source": [
    "## About this project\n",
    "For this project, we need to create our own website as a group with own topics and working function connected by frontend and backend. Each member will engage in the project by creating a function of their own with frontend functions and backend that stores corresponding data."
   ]
  },
  {
   "cell_type": "markdown",
   "metadata": {},
   "source": [
    "## What I've learned\n",
    "\n",
    "### Using Backend API to Save Comments:\n",
    "- I learned how to create backend APIs for handling user comments, including routes for posting and retrieving data securely.\n",
    "\n",
    "### Creating a Database Table:\n",
    "- I gained experience designing a database table to store and organize comments, making it easy to retrieve and display data on the frontend.\n",
    "\n",
    "### Running Files Together:\n",
    "- I learned how to configure and run multiple project files, ensuring smooth communication between the backend, database, and frontend.\n",
    "\n",
    "### Handling Static and Fluid Data:\n",
    "- I developed skills in managing both predefined static data and dynamic user-generated content for better backend performance."
   ]
  },
  {
   "cell_type": "markdown",
   "metadata": {},
   "source": [
    "## Challenges I Faced, Mistakes Made, and Improvements\n",
    "\n",
    "**Initial Approach Without Proper Methods:**\n",
    "I focused on getting the feature functional without using the proper backend approach, such as relying on JavaScript instead of the provided Python code.\n",
    "\n",
    "**How I Fixed It:** I explored resource files, like user.py, to find useful code examples and applied them correctly.\n",
    "\n",
    "**Understanding Complex Code Structures:**\n",
    "I struggled to comprehend how certain parts of the code functioned and fit together.\n",
    "\n",
    "**Improvement:** I reviewed resource files to learn which code blocks correspond to specific situations and used external tools like Copilot to refine and debug my code.\n",
    "\n",
    "**Code Execution Issues Due to Missing Settings:**\n",
    "My code often failed due to missing key configurations.\n",
    "\n",
    "**How I Fixed It:** I checked if I was in the correct environment or the right branch before running the code, ensuring all settings were correctly applied."
   ]
  },
  {
   "cell_type": "markdown",
   "metadata": {},
   "source": [
    "## Frontend work\n",
    "\n",
    "- I first created an outline for the entire backend, so me and my member can start to develop their structure in the frontend website.\n",
    "- I created a basic comment model that allow users to comment, but did not link to the backend so it won't save. \n",
    "\n",
    "The purpose of this work is to set up the skeleton function for later backend development."
   ]
  },
  {
   "cell_type": "markdown",
   "metadata": {
    "vscode": {
     "languageId": "html"
    }
   },
   "source": [
    "![Frontend Image](https://github.com/collin12396/newCollinCSP_2025/blob/main/images/frontend.png?raw=true)"
   ]
  },
  {
   "cell_type": "markdown",
   "metadata": {},
   "source": [
    "## Backend work\n",
    "\n",
    "API Creation:\n",
    "- Built an API to connect the frontend and backend for saving comments.\n",
    "- Learned how to handle HTTP requests (POST and GET) and ensure data persists even after the server is restarted.\n",
    "\n",
    "Database Setup:\n",
    "- Created a database to store both static (e.g., user data) and dynamic (e.g., comments) data.\n",
    "- Used classes in Python to organize and structure the comment data.\n",
    "- Displayed the data in a table format for easy visualization.\n",
    "\n",
    "Backup and Restore:\n",
    "- Implemented a backup system to save database copies.\n",
    "- Currently learning how to restore data from backups, troubleshooting errors along the way."
   ]
  },
  {
   "cell_type": "markdown",
   "metadata": {},
   "source": [
    "![Frontend Image](https://github.com/collin12396/newCollinCSP_2025/blob/main/images/frontend.png?raw=true)"
   ]
  },
  {
   "cell_type": "markdown",
   "metadata": {},
   "source": [
    "## Algorithm Design: Handling Comments\n",
    "\n",
    "### Key Methods for Handling Comments\n",
    "\n",
    "- **API Endpoint**:\n",
    "  - Created an API endpoint to receive and store comments from the frontend. The API uses POST requests to save comments to the database and GET requests to retrieve them.\n",
    "\n",
    "- **Data Validation**:\n",
    "  - Ensured that only valid comment data is stored by checking for empty or invalid input before saving it to the database.\n"
   ]
  },
  {
   "cell_type": "markdown",
   "metadata": {},
   "source": [
    "### Database Usage\n",
    "\n",
    "- **Data Structure**:\n",
    "  - The data is structured using a **Comment class** with an `id` and `comment` field in an SQLite database. The comments are stored in a table called `'comments'`.\n",
    "  - Each comment is represented by an object, and multiple comment objects are stored in a list (`comments`).\n",
    "\n",
    "- **Queries to Retrieve and Format Data**:\n",
    "  - The `create()` method adds a comment to the database, commits the transaction, and returns the comment object. If there is an integrity error (e.g., duplicate data), it rolls back the transaction.\n",
    "  - Example query to add comments:\n",
    "    ```python\n",
    "    db.session.add(self)  # Prepares the comment for saving\n",
    "    db.session.commit()  # Commits the changes to the database\n",
    "    ```\n",
    "\n",
    "- **Data Backup and Recovery**:\n",
    "  - The database is backed up by saving the current state of the comments to the database. In case of errors (like duplicate or bad data), the transaction is rolled back and the session is removed to ensure the integrity of the data.\n",
    "  - Example of handling errors:\n",
    "    ```python\n",
    "    except IntegrityError:\n",
    "        db.session.rollback()  # Rolls back changes on error\n",
    "        return None\n",
    "    ```\n"
   ]
  },
  {
   "cell_type": "markdown",
   "metadata": {},
   "source": [
    "###"
   ]
  }
 ],
 "metadata": {
  "language_info": {
   "name": "python"
  }
 },
 "nbformat": 4,
 "nbformat_minor": 2
}
