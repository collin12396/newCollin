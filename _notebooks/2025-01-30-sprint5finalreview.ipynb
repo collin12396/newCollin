{
 "cells": [
  {
   "cell_type": "raw",
   "metadata": {
    "vscode": {
     "languageId": "raw"
    }
   },
   "source": [
    "---\n",
    "layout: post\n",
    "title: Sprint 5 final analysis\n",
    "description:  Explain my code and what I do\n",
    "type: issues \n",
    "comments: true\n",
    "---"
   ]
  },
  {
   "cell_type": "markdown",
   "metadata": {},
   "source": [
    "## Discuss formatting response data (JSON) from API into DOM\n",
    "I fetch data from the backend API in JSON format and dynamically display it on the webpage using DOM manipulation. This feature allows users to view comments fetched from the database without reloading the page.\n",
    "\n",
    "**Backend Api example I've done**\n",
    "``` python\n",
    "@app.route('/api/comments', methods=['GET'])\n",
    "def get_comments():\n",
    "    comments_array = [comment.comment for comment in Comment.query.all()]  # Fetch all comments and store in a list\n",
    "    return jsonify(comments_array)  # Send the list back as JSON\n",
    "```\n",
    "In my api file, I used the \" comments_array = [comment.comment for comment in Comment.query.all()]\" code to extracts comment data from database rows and stores it in a list. And my list is also coorporating in frontend.\n",
    "\n",
    "**Frontend DOM manipulation**\n",
    "``` javascript\n",
    "fetch('/api/comments')\n",
    "  .then(response => response.json()) // JSON response from the backend\n",
    "  .then(comments => {\n",
    "    comments.forEach(comment => {\n",
    "      const li = document.createElement('li'); // Create list element for each comment\n",
    "      li.textContent = comment; // Assign comment text to the list element\n",
    "      commentList.appendChild(li); // Add the list element to the DOM\n",
    "    });\n",
    "  })\n",
    "  .catch(error => console.error('Error fetching comments:', error)); // Error handling\n",
    "```\n",
    "\n",
    "In my index.md file, by manipulating DOM, this ensures smooth data flow between the backend and frontend."
   ]
  },
  {
   "cell_type": "markdown",
   "metadata": {},
   "source": []
  }
 ],
 "metadata": {
  "language_info": {
   "name": "python"
  }
 },
 "nbformat": 4,
 "nbformat_minor": 2
}
